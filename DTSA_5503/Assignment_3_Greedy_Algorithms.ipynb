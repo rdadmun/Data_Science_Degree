{
 "cells": [
  {
   "cell_type": "markdown",
   "metadata": {},
   "source": [
    "Assignment 3: Greedy Algorithms\n",
    "\n",
    "    Problem 1: Makespan Scheduling"
   ]
  },
  {
   "cell_type": "markdown",
   "metadata": {},
   "source": [
    "        Problem A: Calculate Makespan of an Assignment"
   ]
  },
  {
   "cell_type": "code",
   "execution_count": null,
   "metadata": {},
   "outputs": [],
   "source": [
    "def compute_makespan(times, m, assign):\n",
    "    # times is an array of job times of size n\n",
    "    # m is the number of processors\n",
    "    # assign is an array of size n whose entries are between 0 to m-1 \n",
    "    # indicating the processor number for\n",
    "    # the corresponding job.\n",
    "    # Return: makespan of the assignment\n",
    "    # your code here\n",
    "    \n",
    "    times_2 = m*[0]\n",
    "    \n",
    "    for i in range(len(times)):\n",
    "        proc = assign[i]\n",
    "        time = times[i]\n",
    "        times_2[proc] = times_2[proc] + time\n",
    "    return max(times_2)"
   ]
  },
  {
   "cell_type": "code",
   "execution_count": null,
   "metadata": {},
   "outputs": [],
   "source": [
    "## BEGIN TESTS\n",
    "print('Test 1 ... ', end = '')\n",
    "times = [2, 2, 2, 2, 3, 3, 2]\n",
    "assigns = [0, 0, 0, 0, 1, 1, 2]\n",
    "m = 3\n",
    "s = compute_makespan(times, m, assigns)\n",
    "assert s == 8, f'Expected makespan is 8, your code returned: {s}'\n",
    "print(' passed!')\n",
    "\n",
    "print('Test 2 ...', end='')\n",
    "times = [2, 1, 2, 2, 1, 3, 2, 1, 1, 3]\n",
    "assigns = [0, 1, 0, 1, 0, 1, 0, 1, 0, 1]\n",
    "m = 3\n",
    "s = compute_makespan(times, m, assigns)\n",
    "assert s == 10, f' Expected makespan is 10, your code returned {s}'\n",
    "print('  passed!')\n",
    "print('Tests passed: 10 points!')\n",
    "\n",
    "## END TESTS"
   ]
  },
  {
   "cell_type": "markdown",
   "metadata": {},
   "source": [
    "Problem B: Implement the Greedy Makespan"
   ]
  },
  {
   "cell_type": "code",
   "execution_count": null,
   "metadata": {},
   "outputs": [],
   "source": [
    "def greedy_makespan_min(times, m):\n",
    "    # times is a list of n jobs.\n",
    "    assert len(times) >= 1\n",
    "    assert all(elt >= 0 for elt in times)\n",
    "    assert m >= 2\n",
    "    n = len(times)\n",
    "    # please do not reorder the jobs in times or else tests will fail.\n",
    "    # you can implement a priority queue if you would like.\n",
    "    # use https://docs.python.org/3/library/heapq.html heapq data structure \n",
    "    # Return a tuple of two things: \n",
    "    #    - Assignment list of n numbers from 0 to m-1\n",
    "    #    - The makespan of your assignment\n",
    "    # your code here\n",
    "    \n",
    "    A = [None] * n\n",
    "    M = [0] * m\n",
    "    \n",
    "    for i in range(n):\n",
    "        j = M.index(min(M))\n",
    "        A[i] = j\n",
    "        M[j] += times[i]\n",
    "        \n",
    "    makespan = max(M)\n",
    "    return A, makespan  "
   ]
  },
  {
   "cell_type": "code",
   "execution_count": null,
   "metadata": {},
   "outputs": [],
   "source": [
    "## BEGIN TESTS\n",
    "def do_test(times, m, expected):\n",
    "    (a, makespan) = greedy_makespan_min(times,m )\n",
    "    print('\\t Assignment returned: ', a)\n",
    "    print('\\t Claimed makespan: ', makespan)\n",
    "    assert compute_makespan(times, m, a) == makespan, 'Assignment returned is not consistent with the reported makespan'\n",
    "    assert makespan == expected, f'Expected makespan should be {expected}, your core returned {makespan}'\n",
    "    print('Passed')\n",
    "print('Test 1:')\n",
    "times = [2, 2, 2, 2, 2, 2, 2, 2, 3] \n",
    "m = 3\n",
    "expected = 7\n",
    "do_test(times, m, expected)\n",
    "\n",
    "print('Test 2:')\n",
    "times = [1]*20 + [5]\n",
    "m = 5\n",
    "expected =9\n",
    "do_test(times, m, expected)\n",
    "\n",
    "print('Test 3:')\n",
    "times = [1]*40 + [2]\n",
    "m = 20\n",
    "expected = 4\n",
    "do_test(times, m, expected)\n",
    "print('All tests passed: 15 points!')\n",
    "## END TESTS"
   ]
  }
 ],
 "metadata": {
  "kernelspec": {
   "display_name": "Python 3",
   "language": "python",
   "name": "python3"
  },
  "language_info": {
   "name": "python",
   "version": "3.12.0"
  }
 },
 "nbformat": 4,
 "nbformat_minor": 2
}
