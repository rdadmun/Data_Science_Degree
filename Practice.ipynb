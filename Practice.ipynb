{
 "cells": [
  {
   "cell_type": "markdown",
   "metadata": {},
   "source": [
    "### Problem 1:\n",
    "Suppose we are interested in the buying habits of shoppers at a particular grocery store with regards to whether they purchase apples, milk, and/or bread. Now suppose 30\\% of all shoppers at this particular grocery store buy apples, 45\\% buy milk, and 40\\% buy a loaf of bread. Let $A$ be the event that a randomly selected shopper buys apples, $B$ be the event that the same randomly selected shopper buys milk, and $C$ the event that they buy bread.  Suppose we also know (from data collected) the following information:\n",
    "\n",
    "\n",
    "*   The probability that the shopper buys apples and milk is 0.20.\n",
    "*   The probability that the shopper buys milk and bread is 0.25.\n",
    "*   The probability that the shopper buys apples and bread is 0.12.\n",
    "*   The probability that the shopper buys all three items is 0.07.\n",
    "\n",
    "Use this information to answer the following questions."
   ]
  },
  {
   "cell_type": "markdown",
   "metadata": {},
   "source": [
    "**a)** For our purposes, we will use a numeric representation for each event. For example, $(010)$ would be an event in the sample space where a zero in the first place represents no apples were bought while a 1 means they were. Similarly,  the second place is the presence of milk and the third place of bread. The example given $(010)$ represents the purchase of milk but not apples or bread.\n",
    "\n",
    "Insert into vector `S` the events that belong to the sample space. Then insert the events from the sample space that would correspond to $A$ occuring into vector `A`. Repeat this with vector `B` for $B$ and vector `C` for $C$.\n",
    "\n",
    "According to set notation, the sample space should look like this: $S=\\{ \\dots \\}$. However, due to data storage syntax in R, we will be storing these events in vectors. For example, for some arbitrary event $W$ would be stored as follows $W=c(010)$. `c()` is a command we can use to construct a vector where commas separate each entry. Complete the code below. Do not worry about the order in which events are placed in vector."
   ]
  },
  {
   "cell_type": "code",
   "execution_count": null,
   "metadata": {
    "vscode": {
     "languageId": "r"
    }
   },
   "outputs": [],
   "source": [
    "S = c()\n",
    "A = c()\n",
    "B = c()\n",
    "C = c()\n",
    "\n",
    "# your code here\n",
    "S = c(000, 100, 110, 111, 010, 011, 001, 111)\n",
    "A = c(100, 110, 101, 111)\n",
    "B = c(010, 110, 011, 111)\n",
    "C = c(001, 101, 011, 111)"
   ]
  },
  {
   "cell_type": "markdown",
   "metadata": {},
   "source": [
    "**b)** Find the probability that the shopper purchases at least one of the three items.\n",
    "\n",
    "Store your answer in a variable `p1.1`."
   ]
  },
  {
   "cell_type": "code",
   "execution_count": null,
   "metadata": {
    "vscode": {
     "languageId": "r"
    }
   },
   "outputs": [],
   "source": [
    "p1.1 = NA\n",
    "# your code here\n",
    "#Given probabilities\n",
    "\n",
    "P_A = 0.30\n",
    "P_B = 0.45\n",
    "P_C = 0.40\n",
    "\n",
    "P_A_and_B = 0.20\n",
    "P_A_and_C = 0.12\n",
    "P_B_and_C = 0.25\n",
    "P_A_B_C = 0.07\n",
    "\n",
    "p1.1 = P_A + P_B + P_C - P_A_and_B - P_A_and_C - P_B_and_C + P_A_B_C\n",
    "p1.1"
   ]
  },
  {
   "cell_type": "code",
   "execution_count": null,
   "metadata": {
    "vscode": {
     "languageId": "r"
    }
   },
   "outputs": [],
   "source": [
    "p1.2 <- 1 - p1.1\n",
    "p1.2"
   ]
  },
  {
   "cell_type": "code",
   "execution_count": null,
   "metadata": {
    "vscode": {
     "languageId": "r"
    }
   },
   "outputs": [],
   "source": [
    "p1.3 <- P_B_and_C - P_A_B_C\n",
    "p1.3"
   ]
  },
  {
   "cell_type": "markdown",
   "metadata": {},
   "source": [
    "### Problem 2:\n",
    "\n",
    "A student takes a multiple choice test with $20$ questions. Each question has 5 possible answers, only one of which is correct.\n",
    "\n",
    "**a)** How many ways can the test be completed?  (Find the cardinality of the sample space.) Store your answer in `cardinality`."
   ]
  },
  {
   "cell_type": "code",
   "execution_count": null,
   "metadata": {
    "vscode": {
     "languageId": "r"
    }
   },
   "outputs": [],
   "source": [
    "cardinality = NA\n",
    "\n",
    "# your code here\n",
    "n = 5\n",
    "k = 20\n",
    "cardinality <- n^k\n",
    "cardinality"
   ]
  },
  {
   "cell_type": "markdown",
   "metadata": {},
   "source": [
    "**b)** If a student answers each question at random, what is the probability that they will answer at least $14$ questions correctly? Round your answer to seven decimal places. Store your answer in `p2.b`."
   ]
  },
  {
   "cell_type": "code",
   "execution_count": null,
   "metadata": {
    "vscode": {
     "languageId": "r"
    }
   },
   "outputs": [],
   "source": [
    "p2.b = NA\n",
    "# your code here\n",
    "p2.b <- 1 - pbinom(13,20,.2,lower.tail = TRUE)\n",
    "p2.b"
   ]
  },
  {
   "cell_type": "markdown",
   "metadata": {},
   "source": [
    "c) If a student knows the answer to each question with probability  0.9\n",
    " , what is the chance they will answer at least  14\n",
    "  correctly? Round your answer to four decimal places. Save your answer as p2.c."
   ]
  },
  {
   "cell_type": "code",
   "execution_count": null,
   "metadata": {
    "vscode": {
     "languageId": "r"
    }
   },
   "outputs": [],
   "source": [
    "p2.c = NA\n",
    "# your code here\n",
    "p2.c <- 1 - pbinom(13,20,.9,lower.tail = TRUE)\n",
    "p2.c"
   ]
  },
  {
   "cell_type": "markdown",
   "metadata": {},
   "source": [
    "### Problem 3:\n",
    "\n",
    "Suppose there are 20 employees on the day shift, 15 on swing, and 10 on nights. You would like to choose 6 at random for an in-depth interview. Let $A_{1}$ be the event that all 6 are chosen from the day shift, $A_{2}$ be the event that all $6$ are chosen from the swing shift, and $A_{3}$ the event that all 6 are chosen from the night shift.\n",
    "\n",
    "**a)** What is the cardinality of the sample space (the drawing of 6 employees from all shifts)? Assume each employee is unique. Think about what each element, or possible outcome, in the sample space represents."
   ]
  },
  {
   "cell_type": "code",
   "execution_count": null,
   "metadata": {
    "vscode": {
     "languageId": "r"
    }
   },
   "outputs": [],
   "source": [
    "Size = NA\n",
    "\n",
    "# your code here\n",
    "n = 45\n",
    "k = 6\n",
    "Size = factorial(n)/(factorial(k)*factorial(n-k))\n",
    "Size"
   ]
  },
  {
   "cell_type": "code",
   "execution_count": null,
   "metadata": {
    "vscode": {
     "languageId": "r"
    }
   },
   "outputs": [],
   "source": [
    "P_AllDay = (factorial(20)/(factorial(6)*factorial(20-6))) / Size\n",
    "\n",
    "P_AllDay"
   ]
  },
  {
   "cell_type": "code",
   "execution_count": null,
   "metadata": {
    "vscode": {
     "languageId": "r"
    }
   },
   "outputs": [],
   "source": [
    "P_AllSame = NA\n",
    "\n",
    "day = 20\n",
    "swing = 15\n",
    "night = 10\n",
    "N = 45\n",
    "\n",
    "P_Day <- choose(day, 6) / choose(N, 6)\n",
    "P_Swing <- choose(swing, 6) / choose(N, 6)\n",
    "P_Night <- choose(night, 6) / choose(N, 6)\n",
    "\n",
    "P_AllSame <- P_Day + P_Swing + P_Night\n",
    "P_AllSame"
   ]
  },
  {
   "cell_type": "code",
   "execution_count": null,
   "metadata": {
    "vscode": {
     "languageId": "r"
    }
   },
   "outputs": [],
   "source": [
    "P_NoneOfOneShift = NA \n",
    "\n",
    "# your code here\n",
    "day_shift = 20\n",
    "swing_shift = 15\n",
    "night_shift = 10\n",
    "N = 45\n",
    "k = 6\n",
    "\n",
    "p_B1 = (factorial(swing_shift+night_shift)/(factorial(k)*factorial(swing_shift+night_shift-k))) / (factorial(N)/(factorial(k)*factorial(N-k)))\n",
    "p_B2 = (factorial(day_shift+swing_shift)/(factorial(k)*factorial(day_shift+swing_shift-k))) / (factorial(N)/(factorial(k)*factorial(N-k)))\n",
    "p_B3 = (factorial(day_shift+night_shift)/(factorial(k)*factorial(day_shift+night_shift-k))) / (factorial(N)/(factorial(k)*factorial(N-k)))\n",
    "p_B4 = (factorial(night_shift)/(factorial(k)*factorial(night_shift-k))) / (factorial(N)/(factorial(k)*factorial(N-k)))\n",
    "p_B5 = (factorial(swing_shift)/(factorial(k)*factorial(swing_shift-k))) / (factorial(N)/(factorial(k)*factorial(N-k)))\n",
    "p_B6 = (factorial(day_shift)/(factorial(k)*factorial(day_shift-k))) / (factorial(N)/(factorial(k)*factorial(N-k)))\n",
    "\n",
    "P_NoneOfOneShift <- (p_B1 + p_B2 + p_B3 - p_B4 - p_B5 - p_B6)\n",
    "P_NoneOfOneShift <- round(P_NoneOfOneShift, 4)\n",
    "print(P_NoneOfOneShift)"
   ]
  },
  {
   "cell_type": "markdown",
   "metadata": {},
   "source": [
    "# Module 2 Assessment\n",
    "In this notebook you will use the rules of conditional probability to solve various problems. Please read each statement and answer all questions in the code blocks that contain \"your code here\". Feel free to add as many blocks as you need, only the original code blocks will be graded."
   ]
  },
  {
   "cell_type": "markdown",
   "metadata": {},
   "source": [
    "### Problem 1\n",
    "The CU Boulder triathlon team has 12 women and 9 men. The team is\n",
    "going to a race and can only enter 5 participants. What is the probability of\n",
    "randomly selecting a race squad of 5 participants with exactly 3 women? Round your answer to three decimal places. Enter your solution into variable `p1.1`."
   ]
  },
  {
   "cell_type": "code",
   "execution_count": null,
   "metadata": {
    "vscode": {
     "languageId": "r"
    }
   },
   "outputs": [],
   "source": [
    "p1.1 = NA\n",
    "\n",
    "# your code here\n",
    "male <- 9\n",
    "female <- 12\n",
    "n <- male + female\n",
    "k <- 5\n",
    "\n",
    "select_3_women <- choose(female,3)\n",
    "select_2_men <- choose(male,2)\n",
    "select_5 <- choose(n,5)\n",
    "\n",
    "p1.1 <- ((select_2_men * select_3_women) / select_5)\n",
    "p1.1"
   ]
  },
  {
   "cell_type": "markdown",
   "metadata": {},
   "source": [
    "### Problem 2\n",
    "Suppose a particular crime is committed in Jerry’s apartment. We’d like to know\n",
    "whether Newman is guilty of the crime. We are torn as to whether we think he is\n",
    "guilty: we think it’s equally likely that he is guilty or not guilty. Suppose that, in\n",
    "similar situations, we know that if a suspect is guilty, $85\\%$ of the time their finger\n",
    "prints are found at the scene, and, we know that if a suspect is not guilty, $30\\%$ of\n",
    "the time their finger prints are found at the scene.\n",
    "\n",
    "**a)** What is the probability that Newman’s finger prints are found at the scene? Round your answer to three decimal places. Enter your solution into variable `p2.1`.\n"
   ]
  },
  {
   "cell_type": "code",
   "execution_count": null,
   "metadata": {
    "vscode": {
     "languageId": "r"
    }
   },
   "outputs": [],
   "source": [
    "p2.1 = NA\n",
    "# your code here\n",
    "P_F_given_G = 0.85\n",
    "P_F_given_not_G = 0.30\n",
    "P_G = 0.5\n",
    "P_Gc = 0.5\n",
    "\n",
    "P_F <- P_F_given_G * P_G + P_F_given_not_G * P_Gc\n",
    "p2.1 <- P_F\n",
    "p2.1"
   ]
  },
  {
   "cell_type": "markdown",
   "metadata": {},
   "source": [
    "**b)** If Newman’s finger prints are found at the scene, how likely is it that he is\n",
    "guilty? Round your answer to three decimal places. Enter your solution into variable `p2.2`."
   ]
  },
  {
   "cell_type": "code",
   "execution_count": null,
   "metadata": {
    "vscode": {
     "languageId": "r"
    }
   },
   "outputs": [],
   "source": [
    "p2.2 <- NA\n",
    "\n",
    "#your code here\n",
    "P_G_given_F <- P_F_given_G * P_G / p2.1\n",
    "p2.2 <- P_G_given_F\n",
    "p2.2"
   ]
  },
  {
   "cell_type": "markdown",
   "metadata": {},
   "source": [
    "**c)** If Newman’s finger prints are not found at the scene, how likely is it that he\n",
    "is guilty? Round your answer to three decimal places. Enter your answer into variable `p2.3`."
   ]
  },
  {
   "cell_type": "code",
   "execution_count": null,
   "metadata": {
    "vscode": {
     "languageId": "r"
    }
   },
   "outputs": [],
   "source": [
    "p2.3 <- NA\n",
    "\n",
    "#your code here\n",
    "P_not_F_given_G <- 1 - P_F_given_G\n",
    "P_not_F <- 1 - P_F\n",
    "p2.3 <- P_not_F_given_G * P_G / P_not_F\n",
    "p2.3"
   ]
  },
  {
   "cell_type": "markdown",
   "metadata": {},
   "source": [
    "### Problem 3\n",
    "\n",
    "The game of Yahtzee is played with five fair dice. The goal is to roll certain\n",
    "‘hands’, such as Yahtzee (all five dice showing the same number) or a full house\n",
    "(three of a kind and two of a kind). In the first round of a player’s turn, the player\n",
    "rolls all five dice. Based on the outcome of that roll, the player has a second and\n",
    "third round, where he/she can then choose to re-roll any subset of the dice to get\n",
    "a desired hand.\n",
    "\n",
    "**a)** What is the probability of rolling a Yahtzee (all 5 dice showing the same number) on the first round? Round your answer to 4 decimal places. Enter your answer into variable `p3.1`."
   ]
  },
  {
   "cell_type": "code",
   "execution_count": null,
   "metadata": {
    "vscode": {
     "languageId": "r"
    }
   },
   "outputs": [],
   "source": [
    "p3.1 <- NA\n",
    "# your code here\n",
    "p <- 1/6\n",
    "p3.1 <- 6 / 6^5\n",
    "p3.1"
   ]
  },
  {
   "cell_type": "markdown",
   "metadata": {},
   "source": [
    "**b)** Suppose that, on the second round, the dice are {2, 3, 4, 6, 6}. You decide to\n",
    "re-roll both sixes in the third round. What is the probability that you roll\n",
    "either a small straight (exactly four dice are in a row) or a large straight (exactly five\n",
    "dice are in a row)? Round your answer to three decimal places. Enter your solution into variable `p3.2`. (Note that to be \"in a row\" means that the dice come up with numbers that could be arranged in a row. Examples of exactly 5 numbers in a row are \"1,2,3,4,5\" or  \"2,3,4,5,6\". You may want to look up small and large straights in Yhatzee if you are unfamilar with the game or confused by this terminology)."
   ]
  },
  {
   "cell_type": "code",
   "execution_count": null,
   "metadata": {
    "vscode": {
     "languageId": "r"
    }
   },
   "outputs": [],
   "source": [
    "p3.2 <- NA\n",
    "# your code here\n",
    "P_not_roll_5 <- (4/6)^2\n",
    "P_roll_5 <- 1 - P_not_roll_5\n",
    "p3.2 <- P_roll_5\n",
    "p3.2"
   ]
  },
  {
   "cell_type": "markdown",
   "metadata": {},
   "source": [
    "**c)** What is the probability of rolling a\n",
    "small straight (exactly four dice in a row) on the first round? Round your answer to have three decimal places. Enter your solution into variable `p3.3`."
   ]
  },
  {
   "cell_type": "code",
   "execution_count": null,
   "metadata": {
    "vscode": {
     "languageId": "r"
    }
   },
   "outputs": [],
   "source": [
    "p3.3 <- NA\n",
    "\n",
    "\n",
    "# your code here\n",
    "total_outcomes <- 6^5\n",
    "die_no_repeat <- 2 * factorial(5)\n",
    "die_repeat <- 3*4*choose(5,2)*factorial(3)\n",
    "small_straight <- die_no_repeat + die_repeat\n",
    "p3.3 <- small_straight / total_outcomes\n",
    "p3.3"
   ]
  },
  {
   "cell_type": "markdown",
   "metadata": {},
   "source": [
    "### Problem 4\n",
    "In 2008, $3\\%$ of adults (age 25 or older) in Boulder, CO had a PhD, $45\\%$ had at\n",
    "least a bachelor’s degree, and $75\\%$ were employed full-time. Consider randomly\n",
    "selecting an adult from Boulder, CO for an interview. Let $A$ denote the event\n",
    "that the individual has a PhD, let $B$ be the event that the individual has a bachelor’s\n",
    "degree, and let $C$ be the event that the individual is employed full-time. Assume that,\n",
    "in order to have a PhD, you must have a bachelor’s degree.\n",
    "\n",
    "**a)** Is it possible for $P(A \\cap B) = 0.03$? Enter your answer as a boolean `TRUE` or `FALSE`. Enter your solution into variable `TF_4.1`.\n"
   ]
  },
  {
   "cell_type": "code",
   "execution_count": null,
   "metadata": {
    "vscode": {
     "languageId": "r"
    }
   },
   "outputs": [],
   "source": [
    "p4.1 <- TRUE\n",
    "p4.1"
   ]
  },
  {
   "cell_type": "markdown",
   "metadata": {},
   "source": [
    "**b)** For the remaining questions, let $P(B \\cup C) = 0.75$. Compute the probability that the selected individual has a bachelor’s degree and full-time employ-ment. Round your answer to two decimal points. Enter your solution into variable `p4.2`."
   ]
  },
  {
   "cell_type": "code",
   "execution_count": null,
   "metadata": {
    "vscode": {
     "languageId": "r"
    }
   },
   "outputs": [],
   "source": [
    "p4.2 <- NA\n",
    "# your code here\n",
    "PhD <- 0.03\n",
    "bachelors <- 0.45 \n",
    "employed <- 0.75\n",
    "P_B_U_C <- 0.75\n",
    "\n",
    "P_B_and_C = bachelors + employed - P_B_U_C\n",
    "p4.2 <- P_B_and_C\n",
    "p4.2\n"
   ]
  },
  {
   "cell_type": "markdown",
   "metadata": {},
   "source": [
    "c) What is the probability that the selected individual has a bachelor’s degree given that they are employed full-time? Round your answers to two decimal places. Save your solution as variable p4.3."
   ]
  },
  {
   "cell_type": "code",
   "execution_count": null,
   "metadata": {
    "vscode": {
     "languageId": "r"
    }
   },
   "outputs": [],
   "source": [
    "p4.3 <- NA\n",
    "#your code here\n",
    "p4.3 <- P_B_and_C / employed\n",
    "p4.3"
   ]
  },
  {
   "cell_type": "markdown",
   "metadata": {},
   "source": [
    "# Module 3 Assessment\n",
    "In this notebook you will use the rules of conditional probability to solve various problems. Please read each statement and answer all questions in the code blocks that contain \"your code here\". Feel free to add as many blocks as you need, only the original code blocks will be graded.\n",
    "\n",
    "### Problem 1\n",
    "\n",
    "The planning department for the local county requires a contractor to submit one, two,\n",
    "three, four, or five forms (depending on the nature of the project) when applying\n",
    "for a building permit. Let $Y$ be the number of forms required for the next applicant.\n",
    "The probability that $y$ forms are required is known to be proportional to $y$; that\n",
    "is, $P(Y = y) = ky$ for $y = 1, ..., 5$.\n",
    "\n",
    "#### Part a)\n",
    "What is the value of k? Save your answer as `p1.1`.\n"
   ]
  },
  {
   "cell_type": "code",
   "execution_count": null,
   "metadata": {
    "vscode": {
     "languageId": "r"
    }
   },
   "outputs": [],
   "source": [
    "p1.1 <- NA\n",
    "# your code here\n",
    "p1.1 <- 1 / (1+2+3+4+5)\n",
    "p1.1"
   ]
  },
  {
   "cell_type": "markdown",
   "metadata": {},
   "source": [
    "#### Part (b)\n",
    "\n",
    "What is the probability that at most three forms are required? Save your answer as `p1.2`."
   ]
  },
  {
   "cell_type": "code",
   "execution_count": null,
   "metadata": {
    "vscode": {
     "languageId": "r"
    }
   },
   "outputs": [],
   "source": [
    "p1.2 <- NA\n",
    "# your code here\n",
    "k <- p1.1\n",
    "p1.2 <- 1*k + 2*k + 3*k\n",
    "p1.2"
   ]
  },
  {
   "cell_type": "markdown",
   "metadata": {},
   "source": [
    "#### Part (c)\n",
    "\n",
    "What is the probability that between two and four forms (inclusive) are\n",
    "required? Save your answer as `p1.3`."
   ]
  },
  {
   "cell_type": "code",
   "execution_count": null,
   "metadata": {
    "vscode": {
     "languageId": "r"
    }
   },
   "outputs": [],
   "source": [
    "p1.3 <- NA\n",
    "# your code here\n",
    "p1.3 <- 2*k + 3*k + 4*k\n",
    "p1.3"
   ]
  },
  {
   "cell_type": "markdown",
   "metadata": {},
   "source": [
    "#### Part (d)\n",
    "\n",
    "Could $P(Y = y) = y^2/50$ for $y = 1, ..., 5$ be the pmf of $Y$ ? Store your answer as TRUE or FALSE. Save your answer as `TF_1.4`."
   ]
  },
  {
   "cell_type": "code",
   "execution_count": null,
   "metadata": {
    "vscode": {
     "languageId": "r"
    }
   },
   "outputs": [],
   "source": [
    "sum <- 0\n",
    "for (i in 1:5) {\n",
    "    probability <- i^2 / 50\n",
    "    sum <- sum + probability\n",
    "}\n",
    "\n",
    "sum"
   ]
  },
  {
   "cell_type": "markdown",
   "metadata": {},
   "source": [
    "### Problem 2\n",
    "\n",
    "Individuals A and B play a sequence of chess games until one player wins 9 games. A wins an individual game with probability p, and B wins a game with probability 1 − p (i.e., there are no draws). Let X denote the number of games played.\n",
    "\n",
    "#### Part (a) \n",
    "\n",
    "What are the possible values of X? Store your answers the vector `Vals_2.1`. Don't worry about the order.\n"
   ]
  },
  {
   "cell_type": "code",
   "execution_count": null,
   "metadata": {
    "vscode": {
     "languageId": "r"
    }
   },
   "outputs": [],
   "source": [
    "Vals_2.1 <- NA\n",
    "# your code here \n",
    "Vals_2.1 <- c(9,10,11,12,13,14,15,16,17)\n",
    "Vals_2.1"
   ]
  },
  {
   "cell_type": "markdown",
   "metadata": {},
   "source": [
    "#### Part (c) \n",
    "\n",
    "Let $p = 0.5$. Find $P(X = 12)$. Round your answer to four decimal places. Save your answer as `p2.3`."
   ]
  },
  {
   "cell_type": "code",
   "execution_count": null,
   "metadata": {
    "vscode": {
     "languageId": "r"
    }
   },
   "outputs": [],
   "source": [
    "p2.3 <- NA\n",
    "# your code here\n",
    "p <- 0.5\n",
    "P_not <- 0.5\n",
    "r <- 9 \n",
    "k <- 12\n",
    "\n",
    "p2.3 <- choose(k-1,r-1) * p^r * (1-p)^(k-r)\n",
    "p2.3"
   ]
  },
  {
   "cell_type": "markdown",
   "metadata": {},
   "source": [
    "### Problem 3\n",
    "Note the following distribution: X = the leading digit of a randomly selected number from a large accounting ledger. The pmf for this random variable has been found to be defined by:\n",
    "$$ P(X=x) = f(x) = log_{10}\\Big(\\frac{x+1}{x}\\Big), \\ \\ x=1,2,...,9. $$\n",
    "#### Part (a)\n",
    "\n",
    "Find E(X). Round your answer to two decimal places. Save your answer as `e3.1`.\n"
   ]
  },
  {
   "cell_type": "code",
   "execution_count": null,
   "metadata": {
    "vscode": {
     "languageId": "r"
    }
   },
   "outputs": [],
   "source": [
    "e3.1 <- NA\n",
    "#your code here\n",
    "e3.1 <- sum(1:9 * log10((1:9 + 1) / 1:9))\n",
    "e3.1"
   ]
  },
  {
   "cell_type": "markdown",
   "metadata": {},
   "source": [
    "### Problem 4\n",
    "\n",
    "Suppose we have an unfair coin with a probability of $0.6$ of obtaining a heads on any given toss. As is typical for coin toss problems, assume each coin toss is independent.\n",
    "\n",
    "#### Part (a) \n",
    "\n",
    "What is the expected number of flips **before** we get a heads? Round your answer to two decimal places. Save your answer as `e4.1`.\n"
   ]
  },
  {
   "cell_type": "code",
   "execution_count": null,
   "metadata": {
    "vscode": {
     "languageId": "r"
    }
   },
   "outputs": [],
   "source": [
    "e4.1 <- NA\n",
    "#your code here\n",
    "p_h <- 0.6\n",
    "p_t <- 0.4\n",
    "e4.1 <- (p_t / p_h)\n",
    "e4.1\n"
   ]
  },
  {
   "cell_type": "markdown",
   "metadata": {},
   "source": [
    "#### Part (b) \n",
    "How many tails do you expect to see before getting three heads? Save your answer as `e4.2`. \n",
    "\n",
    "For example, imagine you see the third heads on the tenth trial. This would mean you have seen 2 heads in the first 9 trials followed by a heads on the tenth. Then your answer would be observing $7$ tails. Generalize this to the $i^{th}$ trial."
   ]
  },
  {
   "cell_type": "code",
   "execution_count": null,
   "metadata": {
    "vscode": {
     "languageId": "r"
    }
   },
   "outputs": [],
   "source": [
    "e4.2 <- NA\n",
    "# your code here\n",
    "r <- 3\n",
    "e4.2 <- (r*p_t) / p_h\n",
    "e4.2"
   ]
  },
  {
   "cell_type": "markdown",
   "metadata": {},
   "source": [
    "## Module 4 Assessment\n",
    "### Problem 1\n",
    "Suppose that car accidents in a given town have a Poisson distribution, with an\n",
    "average of 5 per week (i.e. λ = 5). Also, note that, given a Poisson process with\n",
    "mean λ, the waiting time until the first outcome has an exponential distribution\n",
    "with mean $1/λ$.\n",
    "\n",
    "**a)** What is the probability that more than 6 accidents occur in a given week? Round your answer to four decimal places.\n"
   ]
  },
  {
   "cell_type": "code",
   "execution_count": null,
   "metadata": {
    "vscode": {
     "languageId": "r"
    }
   },
   "outputs": [],
   "source": [
    "p1.1 <- NA\n",
    "#your code here\n",
    "lambda <- 5\n",
    "p1.1 <- 1- ppois(6,lambda,TRUE) \n",
    "p1.1"
   ]
  },
  {
   "cell_type": "markdown",
   "metadata": {},
   "source": [
    "**b)** What is the probability that the time until an accident will be at least one\n",
    "week? Give the exact answer or round your answer to four decimal places."
   ]
  },
  {
   "cell_type": "code",
   "execution_count": null,
   "metadata": {
    "vscode": {
     "languageId": "r"
    }
   },
   "outputs": [],
   "source": [
    "p1.2 <- NA\n",
    "# your code here\n",
    "p1.2 <- exp(-lambda *1)\n",
    "p1.2"
   ]
  },
  {
   "cell_type": "markdown",
   "metadata": {},
   "source": [
    "**c)** Suppose that no accidents have occurred for two weeks. What is the probability that no accidents will occur for another two weeks? Give the exact value or round your answer to six decimal places."
   ]
  },
  {
   "cell_type": "code",
   "execution_count": null,
   "metadata": {
    "vscode": {
     "languageId": "r"
    }
   },
   "outputs": [],
   "source": [
    "p1.3 <- (exp(-lambda))^2\n",
    "p1.3 "
   ]
  },
  {
   "cell_type": "markdown",
   "metadata": {},
   "source": [
    "### Problem 2\n",
    "Let X = the outcome when a fair die is rolled once. Suppose that, before the die\n",
    "is rolled, you are offered a choice: Option #1: a guarantee of $1/4$ dollars (whatever\n",
    "the outcome of the roll); Option #2: $h(X) = 1/X$ dollars. Which option would\n",
    "you prefer? Store your answer in the given variable as a numeric 1 or 2."
   ]
  },
  {
   "cell_type": "markdown",
   "metadata": {},
   "source": [
    "# FUCK THE BELOW PROBLEM"
   ]
  },
  {
   "cell_type": "markdown",
   "metadata": {},
   "source": [
    "### Problem 3\n",
    "\n",
    "Suppose $X$ is a random variable for the length of time (in hours) it takes for a piece of machinery to fail. Let $X$ have PDF $f(x) = ce^{-x/50}$ for $x>0$ and $f(x) = 0$ for $x \\le 0$.\n",
    "\n",
    "**a)** What is the value of c?"
   ]
  },
  {
   "cell_type": "code",
   "execution_count": null,
   "metadata": {
    "vscode": {
     "languageId": "r"
    }
   },
   "outputs": [],
   "source": [
    "p3.1 <- NA\n",
    "#your code here\n",
    "pdf <- function(x) {\n",
    "    ifelse(x > 0, c * exp(-x/50),0)\n",
    "}\n",
    "\n",
    "integrand <- function(c) {\n",
    "    result <- integrate(pdf, lower = 0, upper = Inf, c = c)\n",
    "    return(results$value - 1)\n",
    "}\n",
    "\n",
    "p3.1 <- uniroot(integrand, lower = 0.001, upper = 10)$root\n",
    "p3.1"
   ]
  },
  {
   "cell_type": "markdown",
   "metadata": {},
   "source": [
    "b) What is the probability that the machine will function for at least 100 hours? Give the exact value or round your answer to three decimal places."
   ]
  },
  {
   "cell_type": "code",
   "execution_count": 67,
   "metadata": {
    "vscode": {
     "languageId": "r"
    }
   },
   "outputs": [
    {
     "data": {
      "text/html": [
       "0.135"
      ],
      "text/latex": [
       "0.135"
      ],
      "text/markdown": [
       "0.135"
      ],
      "text/plain": [
       "[1] 0.135"
      ]
     },
     "metadata": {},
     "output_type": "display_data"
    }
   ],
   "source": [
    "p3.b <- NA\n",
    "# your code here\n",
    "f <- function(x) {\n",
    "    ifelse(x>0, (1/50) * exp(-x/50), 0)\n",
    "}\n",
    "\n",
    "p3.b <- integrate(f, lower = 100, upper = Inf)$value\n",
    "p3.b <- round(p3.b,3)\n",
    "p3.b"
   ]
  },
  {
   "cell_type": "markdown",
   "metadata": {},
   "source": [
    "**c)** What is the expected amount of time for the machine to break?"
   ]
  },
  {
   "cell_type": "code",
   "execution_count": 69,
   "metadata": {
    "vscode": {
     "languageId": "r"
    }
   },
   "outputs": [
    {
     "data": {
      "text/html": [
       "50"
      ],
      "text/latex": [
       "50"
      ],
      "text/markdown": [
       "50"
      ],
      "text/plain": [
       "[1] 50"
      ]
     },
     "metadata": {},
     "output_type": "display_data"
    }
   ],
   "source": [
    "p3.c <- NA\n",
    "# your code here\n",
    "f <- function(x) {\n",
    "    ifelse(x>0, (1/50) * x * exp(-x/50), 0)\n",
    "}\n",
    "\n",
    "p3.c <- integrate(f, lower = 0, upper = Inf)$value\n",
    "p3.c <- round(p3.c,3)\n",
    "p3.c"
   ]
  },
  {
   "cell_type": "markdown",
   "metadata": {},
   "source": [
    "# Module 4 Autograded Assignment"
   ]
  },
  {
   "cell_type": "markdown",
   "metadata": {},
   "source": [
    "# Problem 1\n",
    "\n",
    "Ralphie is fascinated with sports and sports fans, and wants to how many people go to the football games to see her run across the field. However, she can't ask the game organizers to share their numbers with her (because she's a buffalo) so she decides to count how many people are in the stadium herself. But counting while running is difficult, so her counts may be incorrect. To address this problem, Ralphie has hired $9$ other buffalo to hide amongst the stadium and count the number of attendees. Each buffalo counted at a total of $n=20$ games, and their results can be seen below. Note that this problem assumes that all of the games have the same underlying population distribution.\n",
    "\n",
    "We want to help Ralphie find a confidence interval for the average number of attendees. Let's begin by loading in all data recorded by the herd. The data is in a file called buffalo.csv which is a table of comma separated values. We will also use the \"head\" function to show the first few rows of the table.\n",
    "\n",
    "(Note: We will be using a function called \"read.table()\". R also has a function called \"read.csv()\" which might seem more appropriate here since we are reading a csv file. read.csv() is just a special case of read.table() but it requires a little more care to use in terms of setting up labels for rows and columns.)"
   ]
  },
  {
   "cell_type": "code",
   "execution_count": 1,
   "metadata": {
    "vscode": {
     "languageId": "r"
    }
   },
   "outputs": [
    {
     "data": {
      "text/html": [
       "<table class=\"dataframe\">\n",
       "<caption>A data.frame: 6 x 10</caption>\n",
       "<thead>\n",
       "\t<tr><th></th><th scope=col>V1</th><th scope=col>V2</th><th scope=col>V3</th><th scope=col>V4</th><th scope=col>V5</th><th scope=col>V6</th><th scope=col>V7</th><th scope=col>V8</th><th scope=col>V9</th><th scope=col>V10</th></tr>\n",
       "\t<tr><th></th><th scope=col>&lt;dbl&gt;</th><th scope=col>&lt;dbl&gt;</th><th scope=col>&lt;dbl&gt;</th><th scope=col>&lt;dbl&gt;</th><th scope=col>&lt;dbl&gt;</th><th scope=col>&lt;dbl&gt;</th><th scope=col>&lt;dbl&gt;</th><th scope=col>&lt;dbl&gt;</th><th scope=col>&lt;dbl&gt;</th><th scope=col>&lt;dbl&gt;</th></tr>\n",
       "</thead>\n",
       "<tbody>\n",
       "\t<tr><th scope=row>1</th><td>32577</td><td>23042</td><td>32978</td><td>32634</td><td>27487</td><td>15760</td><td>19428</td><td>23231</td><td>24965</td><td>39427</td></tr>\n",
       "\t<tr><th scope=row>2</th><td>29581</td><td>20205</td><td>18114</td><td>23263</td><td>23204</td><td>22530</td><td>26513</td><td>19648</td><td>27614</td><td>17574</td></tr>\n",
       "\t<tr><th scope=row>3</th><td>23654</td><td>27264</td><td>25800</td><td>29825</td><td>24657</td><td>28021</td><td>31514</td><td>20854</td><td>17292</td><td>25280</td></tr>\n",
       "\t<tr><th scope=row>4</th><td>23585</td><td>21742</td><td>22400</td><td>21103</td><td>29360</td><td>31911</td><td>30952</td><td>22422</td><td>32429</td><td>23323</td></tr>\n",
       "\t<tr><th scope=row>5</th><td>35547</td><td>28364</td><td>22283</td><td>20007</td><td>18000</td><td>18606</td><td>15617</td><td>31939</td><td>29992</td><td>23636</td></tr>\n",
       "\t<tr><th scope=row>6</th><td>26596</td><td>22739</td><td>39648</td><td>20227</td><td>24670</td><td>26500</td><td>28709</td><td>23964</td><td>11656</td><td>17418</td></tr>\n",
       "</tbody>\n",
       "</table>\n"
      ],
      "text/latex": [
       "A data.frame: 6 x 10\n",
       "\\begin{tabular}{r|llllllllll}\n",
       "  & V1 & V2 & V3 & V4 & V5 & V6 & V7 & V8 & V9 & V10\\\\\n",
       "  & <dbl> & <dbl> & <dbl> & <dbl> & <dbl> & <dbl> & <dbl> & <dbl> & <dbl> & <dbl>\\\\\n",
       "\\hline\n",
       "\t1 & 32577 & 23042 & 32978 & 32634 & 27487 & 15760 & 19428 & 23231 & 24965 & 39427\\\\\n",
       "\t2 & 29581 & 20205 & 18114 & 23263 & 23204 & 22530 & 26513 & 19648 & 27614 & 17574\\\\\n",
       "\t3 & 23654 & 27264 & 25800 & 29825 & 24657 & 28021 & 31514 & 20854 & 17292 & 25280\\\\\n",
       "\t4 & 23585 & 21742 & 22400 & 21103 & 29360 & 31911 & 30952 & 22422 & 32429 & 23323\\\\\n",
       "\t5 & 35547 & 28364 & 22283 & 20007 & 18000 & 18606 & 15617 & 31939 & 29992 & 23636\\\\\n",
       "\t6 & 26596 & 22739 & 39648 & 20227 & 24670 & 26500 & 28709 & 23964 & 11656 & 17418\\\\\n",
       "\\end{tabular}\n"
      ],
      "text/markdown": [
       "\n",
       "A data.frame: 6 x 10\n",
       "\n",
       "| <!--/--> | V1 &lt;dbl&gt; | V2 &lt;dbl&gt; | V3 &lt;dbl&gt; | V4 &lt;dbl&gt; | V5 &lt;dbl&gt; | V6 &lt;dbl&gt; | V7 &lt;dbl&gt; | V8 &lt;dbl&gt; | V9 &lt;dbl&gt; | V10 &lt;dbl&gt; |\n",
       "|---|---|---|---|---|---|---|---|---|---|---|\n",
       "| 1 | 32577 | 23042 | 32978 | 32634 | 27487 | 15760 | 19428 | 23231 | 24965 | 39427 |\n",
       "| 2 | 29581 | 20205 | 18114 | 23263 | 23204 | 22530 | 26513 | 19648 | 27614 | 17574 |\n",
       "| 3 | 23654 | 27264 | 25800 | 29825 | 24657 | 28021 | 31514 | 20854 | 17292 | 25280 |\n",
       "| 4 | 23585 | 21742 | 22400 | 21103 | 29360 | 31911 | 30952 | 22422 | 32429 | 23323 |\n",
       "| 5 | 35547 | 28364 | 22283 | 20007 | 18000 | 18606 | 15617 | 31939 | 29992 | 23636 |\n",
       "| 6 | 26596 | 22739 | 39648 | 20227 | 24670 | 26500 | 28709 | 23964 | 11656 | 17418 |\n",
       "\n"
      ],
      "text/plain": [
       "  V1    V2    V3    V4    V5    V6    V7    V8    V9    V10  \n",
       "1 32577 23042 32978 32634 27487 15760 19428 23231 24965 39427\n",
       "2 29581 20205 18114 23263 23204 22530 26513 19648 27614 17574\n",
       "3 23654 27264 25800 29825 24657 28021 31514 20854 17292 25280\n",
       "4 23585 21742 22400 21103 29360 31911 30952 22422 32429 23323\n",
       "5 35547 28364 22283 20007 18000 18606 15617 31939 29992 23636\n",
       "6 26596 22739 39648 20227 24670 26500 28709 23964 11656 17418"
      ]
     },
     "metadata": {},
     "output_type": "display_data"
    }
   ],
   "source": [
    "# Manually create a data frame\n",
    "data.buffalo <- data.frame(\n",
    "  V1 = c(32577, 29581, 23654, 23585, 35547, 26596, 27152, 25114, 20217, 32795, 29691, 22524, 24287, 34070, 29447, 33821, 26907, 36299, 24577, 24899),\n",
    "  V2 = c(23042, 20205, 27264, 21742, 28364, 22739, 24933, 26544, 32524, 19760, 20339, 19166, 26186, 22145, 25411, 17131, 22067, 19426, 22414, 25970),\n",
    "  V3 = c(32978, 18114, 25800, 22400, 22283, 39648, 19356, 21105, 29632, 25050, 21304, 25152, 18587, 29787, 23057, 24420, 40951, 23234, 21446, 37148),\n",
    "  V4 = c(32634, 23263, 29825, 21103, 20007, 20227, 24305, 24284, 23682, 19714, 25279, 25164, 20180, 19155, 18480, 39218, 35081, 21310, 30886, 20777),\n",
    "  V5 = c(27487, 23204, 24657, 29360, 18000, 24670, 20110, 28984, 22451, 28577, 18217, 14918, 18317, 29136, 18904, 30343, 29677, 19317, 28194, 30764),\n",
    "  V6 = c(15760, 22530, 28021, 31911, 18606, 26500, 26453, 31605, 22486, 25718, 28460, 31322, 34480, 19264, 20393, 23486, 29279, 28593, 24457, 35742),\n",
    "  V7 = c(19428, 26513, 31514, 30952, 15617, 28709, 16449, 25862, 30981, 23306, 17315, 18282, 33986, 17609, 18281, 19805, 21742, 15858, 25938, 18615),\n",
    "  V8 = c(23231, 19648, 20854, 22422, 31939, 23964, 27195, 24293, 23345, 33735, 34752, 27013, 26575, 19258, 22310, 28495, 30314, 23762, 20576, 25105),\n",
    "  V9 = c(24965, 27614, 17292, 32429, 29992, 11656, 26490, 19527, 32536, 26374, 21995, 27968, 17602, 19781, 27830, 24924, 22908, 21554, 23791, 22660),\n",
    "  V10 = c(39427, 17574, 25280, 23323, 23636, 17418, 25391, 16374, 28880, 30979, 35069, 25828, 24977, 19535, 17917, 22750, 18951, 16659, 31613, 22055)\n",
    ")\n",
    "\n",
    "head(data.buffalo)\n",
    "\n"
   ]
  },
  {
   "cell_type": "markdown",
   "metadata": {},
   "source": [
    "**Part A:** The data in the first column of data.buffalo, labeled as column \"V1\", are measurements taken by a buffalo named Sally. In the next cell, extract Sally's data by typing \n",
    "\n",
    "<code>data.sally = data.buffalo$V1</code>\n",
    "\n",
    "Alternatively, you may type\n",
    "\n",
    "<code>data.sally = data.buffalo[,1]</code>\n",
    "\n",
    "to get that first column.\n",
    "\n",
    "Assuming that these data come from a normal distribution, compute a 90\\% confidence interval for the true average number of attendees. You will use functions like mean(), var(), and qnorm(). Store your lower and upper confidence interval endpoints in the variables lower.bound and upper.bound. Report your answers in the next cell by replacing the \"NA placeholders\" with your values."
   ]
  },
  {
   "cell_type": "code",
   "execution_count": 10,
   "metadata": {
    "vscode": {
     "languageId": "r"
    }
   },
   "outputs": [
    {
     "data": {
      "text/html": [
       "26430.2006577603"
      ],
      "text/latex": [
       "26430.2006577603"
      ],
      "text/markdown": [
       "26430.2006577603"
      ],
      "text/plain": [
       "[1] 26430.2"
      ]
     },
     "metadata": {},
     "output_type": "display_data"
    },
    {
     "data": {
      "text/html": [
       "29903.7993422397"
      ],
      "text/latex": [
       "29903.7993422397"
      ],
      "text/markdown": [
       "29903.7993422397"
      ],
      "text/plain": [
       "[1] 29903.8"
      ]
     },
     "metadata": {},
     "output_type": "display_data"
    }
   ],
   "source": [
    "lower.bound = NA\n",
    "upper.bound = NA\n",
    "\n",
    "# your code here\n",
    "data.sally = data.buffalo$V1\n",
    "\n",
    "x_bar_sally <- mean(data.sally)\n",
    "s_sally <- sd(data.sally)\n",
    "n <- length(data.sally)\n",
    "CI <- 0.90\n",
    "\n",
    "alpha <- 1 - CI\n",
    "z_alpha_over_2 <- qnorm(1 - alpha / 2)\n",
    "\n",
    "lower.bound <- x_bar_sally - z_alpha_over_2 * s_sally / sqrt(n)\n",
    "upper.bound <- x_bar_sally + z_alpha_over_2 * s_sally / sqrt(n)\n",
    "\n",
    "lower.bound\n",
    "upper.bound"
   ]
  },
  {
   "cell_type": "markdown",
   "metadata": {},
   "source": [
    "Part B: For these 4 questions, determine whether the answer is true or false. Report your answers in the next cell by replacing the \"NA placeholders\" for each part with either TRUE or FALSE.\n",
    "\n",
    "Ralph (Ralphie's cousin) computed a 90% confidence interval as  [19,571,25,249]\n",
    "  for the mean number of attendees. But he's not sure how to interpret his confidence interval so he's asked you for help. For each of the following statements, answer TRUE or FALSE into the corresponding answer variable for whether the statement is correct.\n",
    "\n",
    "1. If Ralph has no other evidence regarding the true mean number of attendees, he could say there is a  90%\n",
    "  chance that the population's true mean falls between  19,571\n",
    "  and  25,249\n",
    " .\n",
    "\n",
    "2. If Ralph counts the number of attendees at another game, there is a  90%\n",
    "  chance that the counted number will be between  19,571\n",
    "  and  25,249\n",
    " .\n",
    "\n",
    "3. If Ralph also calculates a  95%\n",
    "  confidence interval for his data, then the  95%\n",
    "  interval will be wider than the  90%\n",
    "  interval.\n",
    "\n",
    "4. If Ralph counts the number of attendees at an  11𝑡ℎ\n",
    "  game, adds that count to his original data and then calculates another  90%\n",
    "  confidence interval, then the new interval will be narrower than the original one (i.e. the difference between the upper and lower values will be smaller)."
   ]
  },
  {
   "cell_type": "code",
   "execution_count": null,
   "metadata": {
    "vscode": {
     "languageId": "r"
    }
   },
   "outputs": [],
   "source": [
    "prob.1.a.1 <- NA\n",
    "\n",
    "#your code here\n",
    "1. FALSE\n",
    "2. FALSE\n",
    "3. TRUE\n",
    "4. TRUE"
   ]
  },
  {
   "cell_type": "markdown",
   "metadata": {},
   "source": [
    "# WE DON'T KNOW HOW TO SOLVE THIS PROBLEM"
   ]
  },
  {
   "cell_type": "markdown",
   "metadata": {},
   "source": [
    "**Part C:**\n",
    "\n",
    "Now let's look at the data from all of the buffalo. If we calculate 10 different $60\\%$ confidence interval for each buffalo's count (i.e. each using $20$ values), how many CIs do we expect to contain the true mean? Store your answer in `theoretical_hits`.\n",
    "\n",
    "We will now check what we actually observe against the theoretical answer. Calculate the $60\\%$ confidence interval for each buffalo's count. \n",
    "\n",
    "Assuming that the true mean is $\\mu=25000$, find the number of those CIs contain the true mean. Store this value in `sample_hits`. Does this value match the theoretical value? Should it?\n",
    "\n",
    "<i>(Here are some hints if you have no idea where to start. Your correct approach may not look anything like this!\n",
    "    <ol>\n",
    "        <li> Create a 10 by 1 vector to hold the results for each confidence interval. It could be a Boolean vector holding values like TRUE and FALSE or a numeric vector holding values like 1 and 0 where 1 means that the true mean is in the confidence interval and 0 means that it isn't.</li>\n",
    "        <li>Create a \"for loop\" that will run 10 times. Each time through the loop you can compute a new confidence interval using your previous code for Sally's confidence interval with minor adjustments, determine whether or not the true $\\mu$ is in the interval, and fill in the corresponding position in the results vector with your conclusion.</li>"
   ]
  },
  {
   "cell_type": "code",
   "execution_count": null,
   "metadata": {
    "vscode": {
     "languageId": "r"
    }
   },
   "outputs": [],
   "source": [
    "theoretical_hits = NA\n",
    "sample_hits = NA\n",
    "\n",
    "confidence_level <- 0.6 \n",
    "true_mean = 25000\n",
    "\n",
    "# your code here\n",
    "# Initialize a counter for intervals containing the true mean\n",
    "num_buffalo <- ncol(data.buffalo)\n",
    "num_games <- nrow(data.buffalo)\n",
    "sample_hits <- numeric(10)\n",
    "\n",
    "for(i in 1:10) {\n",
    "    buffalo_data <- data.buffalo[,i]\n",
    "    \n",
    "    xbar <- mean(buffalo_data)\n",
    "    s <- sd(buffalo_data)\n",
    "    alpha <- 1 - CI_level\n",
    "    z_alpha_over_2 <- qnorm(1 - alpha / 2)\n",
    "    \n",
    "    lower.bound <- xbar - z_alpha_over_2 * (s / sqrt(num_games))\n",
    "    upper.bound <- xbar + z_alpha_over_2 * (s / sqrt(num_games))\n",
    "    \n",
    "    contains_mean <- lower.bound <= true_mean && upper.bound >= true_mean\n",
    "    \n",
    "    sample_hits[i] <- contains_mean\n",
    "    \n",
    "    #if(lower.bound <= true_mean && upper.bound >= true_mean) {\n",
    "    # sample_hits <- sample_hits + 1   \n",
    "    #}\n",
    "}\n",
    "\n",
    "theoretical_hits <- num_buffalo^2 * CI_level\n",
    "\n",
    "theoretical_hits\n",
    "sample_hits"
   ]
  },
  {
   "cell_type": "markdown",
   "metadata": {},
   "source": [
    "# Problem 2\n",
    "\n",
    "Suppose you run two different email Ad campaigns over many days and record the amount of traffic driven to your website on days that each Ad is sent. In particular, suppose that Ad 1 is sent on 60 different days and generates an average of 2.2 million page views per day with an sd of 1 million views, and Ad 2 is sent on 40 different days and generates an average of 2.5 million page views per day with an sd of 0.75 million views.\n",
    "\n",
    "**Part A)** \n",
    "\n",
    "Find an approximate 95% confidence interval for $\\mu_{1}-\\mu_{2}$, the difference in average page views per day (in units of millions of views). Save the upper bound as `conf.int.upper` and the lower bound as `conf.int.lower`. Round your answers to have three decimal places using the command\n",
    "\n",
    "<code>round(your_answer_here,3)</code>"
   ]
  },
  {
   "cell_type": "code",
   "execution_count": null,
   "metadata": {
    "vscode": {
     "languageId": "r"
    }
   },
   "outputs": [],
   "source": [
    "conf.int.lower <- NA\n",
    "conf.int.upper <- NA\n",
    "\n",
    "# your code here\n"
   ]
  }
 ],
 "metadata": {
  "kernelspec": {
   "display_name": "R",
   "language": "R",
   "name": "ir"
  },
  "language_info": {
   "codemirror_mode": "r",
   "file_extension": ".r",
   "mimetype": "text/x-r-source",
   "name": "R",
   "pygments_lexer": "r",
   "version": "4.3.2"
  }
 },
 "nbformat": 4,
 "nbformat_minor": 2
}
