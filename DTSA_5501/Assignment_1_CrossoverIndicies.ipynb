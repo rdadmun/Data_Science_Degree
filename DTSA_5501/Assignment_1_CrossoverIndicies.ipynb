{
 "cells": [
  {
   "cell_type": "markdown",
   "metadata": {},
   "source": [
    "Problem 1: Find Crossover Indices"
   ]
  },
  {
   "cell_type": "code",
   "execution_count": null,
   "metadata": {},
   "outputs": [],
   "source": [
    "#First write a \"helper\" function with two extra parameters\n",
    "# left, right that ddedscribes the search region as shown below\n",
    "def findCrossoverIndexHelper(x, y, left, right):\n",
    "    # Note: Output index i such that \n",
    "    #         left <= i <= right\n",
    "    #         x[i] <= y[i]\n",
    "    # First, Write down our invariants as assertions here\n",
    "    assert(len(x) == len(y))\n",
    "    assert(left >= 0)\n",
    "    assert(left <= right-1)\n",
    "    assert(right < len(x))\n",
    "    # Here is the key property we would like to maintain.\n",
    "    assert(x[left] > y[left])\n",
    "    assert(x[right] < y[right])\n",
    "     \n",
    "    mid = (left + right)//2\n",
    "    if(x[mid] >= y[mid] and x[mid + 1] < y[mid + 1]):\n",
    "        return mid\n",
    "    elif(x[mid] >= y[mid] and x[mid + 1] > y[mid + 1]):\n",
    "        #search [mid+1, right]\n",
    "        return findCrossoverIndexHelper(x, y, mid + 1, right)\n",
    "    #search [left, mid]\n",
    "    return findCrossoverIndexHelper(x, y, left, mid)"
   ]
  },
  {
   "cell_type": "code",
   "execution_count": null,
   "metadata": {},
   "outputs": [],
   "source": [
    "#Define the function findCrossoverIndex that wil \n",
    "# call the helper function findCrossoverIndexHelper\n",
    "def findCrossoverIndex(x, y):\n",
    "    assert(len(x) == len(y))\n",
    "    assert(x[0] > y[0])\n",
    "    n = len(x)\n",
    "    assert(x[n-1] < y[n-1]) # Note: this automatically ensures n >= 2 why?\n",
    "   \n",
    "    return findCrossoverIndexHelper(x, y, 0, n-1)"
   ]
  },
  {
   "cell_type": "code",
   "execution_count": null,
   "metadata": {},
   "outputs": [],
   "source": [
    "# BEGIN TEST CASES\n",
    "j1 = findCrossoverIndex([0, 1, 2, 3, 4, 5, 6, 7], [-2, 0, 4, 5, 6, 7, 8, 9])\n",
    "print('j1 = %d' % j1)\n",
    "assert j1 == 1, \"Test Case # 1 Failed\"\n",
    "\n",
    "j2 = findCrossoverIndex([0, 1, 2, 3, 4, 5, 6, 7], [-2, 0, 4, 4.2, 4.3, 4.5, 8, 9])\n",
    "print('j2 = %d' % j2)\n",
    "assert j2 == 1 or j2 == 5, \"Test Case # 2 Failed\"\n",
    "\n",
    "j3 = findCrossoverIndex([0, 1], [-10, 10])\n",
    "print('j3 = %d' % j3)\n",
    "assert j3 == 0, \"Test Case # 3 failed\"\n",
    "\n",
    "j4 = findCrossoverIndex([0,1, 2, 3], [-10, -9, -8, 5])\n",
    "print('j4 = %d' % j4)\n",
    "assert j4 == 2, \"Test Case # 4 failed\"\n",
    "\n",
    "print('Congratulations: all test cases passed - 10 points')\n",
    "#END TEST CASES"
   ]
  },
  {
   "cell_type": "markdown",
   "metadata": {},
   "source": [
    "Problem 2 (Find integer cube root)"
   ]
  },
  {
   "cell_type": "code",
   "execution_count": null,
   "metadata": {},
   "outputs": [],
   "source": [
    "def integerCubeRootHelper(n, left, right):\n",
    "    cube = lambda x: x * x * x # anonymous function to cube a number\n",
    "    assert(n >= 1)\n",
    "    assert(left < right)\n",
    "    assert(left >= 0)\n",
    "    assert(right < n)\n",
    "    assert(cube(left) < n), f'{left}, {right}'\n",
    "    assert(cube(right) > n), f'{left}, {right}'\n",
    "    \n",
    "    while left < right:\n",
    "        #find midpoint\n",
    "        mid = (left + right + 1)//2\n",
    "        \n",
    "        #if mid^3 > n, right = Mid-1\n",
    "        if mid**3 > n:\n",
    "            right = mid -1\n",
    "        else:\n",
    "            left = mid\n",
    "            \n",
    "    return left"
   ]
  },
  {
   "cell_type": "code",
   "execution_count": null,
   "metadata": {},
   "outputs": [],
   "source": [
    "# Write down the main function\n",
    "def integerCubeRoot(n):\n",
    "    assert( n > 0)\n",
    "    if (n == 1): \n",
    "        return 1\n",
    "    if (n == 2):\n",
    "        return 1\n",
    "    return integerCubeRootHelper(n, 0, n-1)"
   ]
  },
  {
   "cell_type": "code",
   "execution_count": null,
   "metadata": {},
   "outputs": [],
   "source": [
    "assert(integerCubeRoot(1) == 1)\n",
    "assert(integerCubeRoot(2) == 1)\n",
    "assert(integerCubeRoot(4) == 1)\n",
    "assert(integerCubeRoot(7) == 1)\n",
    "assert(integerCubeRoot(8) == 2)\n",
    "assert(integerCubeRoot(20) == 2)\n",
    "assert(integerCubeRoot(26) == 2)\n",
    "for j in range(27, 64):\n",
    "    assert(integerCubeRoot(j) == 3)\n",
    "for j in range(64,125):\n",
    "    assert(integerCubeRoot(j) == 4)\n",
    "for j in range(125, 216):\n",
    "    assert(integerCubeRoot(j) == 5)\n",
    "for j in range(216, 343):\n",
    "    assert(integerCubeRoot(j) == 6)\n",
    "for j in range(343, 512):\n",
    "    assert(integerCubeRoot(j) == 7)\n",
    "print('Congrats: All tests passed! (10 points)')"
   ]
  },
  {
   "cell_type": "markdown",
   "metadata": {},
   "source": [
    "Problem 3 (Develop Multiway Merge Algorithm)"
   ]
  },
  {
   "cell_type": "code",
   "execution_count": null,
   "metadata": {},
   "outputs": [],
   "source": [
    "def twoWayMerge(lst1, lst2):\n",
    "    # Implement the two way merge algorithm on \n",
    "    #          two ascending order sorted lists\n",
    "    # return a fresh ascending order sorted list that \n",
    "    #          merges lst1 and lst2\n",
    "    \n",
    "    lst3=[]\n",
    "    lst3=lst1+lst2\n",
    "    lst3.sort()\n",
    "    return lst3"
   ]
  },
  {
   "cell_type": "code",
   "execution_count": null,
   "metadata": {},
   "outputs": [],
   "source": [
    "# given a list_of_lists as input, \n",
    "#   if list_of_lists has 2 or more lists, \n",
    "#        compute 2 way merge on elements i, i+1 for i = 0, 2, ...\n",
    "#   return new list of lists after the merge\n",
    "#   Handle the case when the list size is odd carefully.\n",
    "def oneStepKWayMerge(list_of_lists):\n",
    "    if (len(list_of_lists) <= 1):\n",
    "        return list_of_lists\n",
    "    ret_list_of_lists = []\n",
    "    k = len(list_of_lists)\n",
    "    for i in range(0, k, 2):\n",
    "        if (i < k-1):\n",
    "            ret_list_of_lists.append(twoWayMerge(list_of_lists[i], list_of_lists[i+1]))\n",
    "        else: \n",
    "            ret_list_of_lists.append(list_of_lists[k-1])\n",
    "    return ret_list_of_lists"
   ]
  },
  {
   "cell_type": "code",
   "execution_count": null,
   "metadata": {},
   "outputs": [],
   "source": [
    "# Given a list of lists wherein each \n",
    "#    element of list_of_lists is sorted in ascending order,\n",
    "# use the oneStepKWayMerge function repeatedly to merge them.\n",
    "# Return a single merged list that is sorted in ascending order.\n",
    "def kWayMerge(list_of_lists):\n",
    "    k = len(list_of_lists)\n",
    "    if k == 1:\n",
    "        return list_of_lists[0]\n",
    "    else:\n",
    "        new_list_of_lists = oneStepKWayMerge(list_of_lists)\n",
    "        return kWayMerge(new_list_of_lists)"
   ]
  },
  {
   "cell_type": "code",
   "execution_count": null,
   "metadata": {},
   "outputs": [],
   "source": [
    "# BEGIN TESTS\n",
    "lst1= kWayMerge([[1,2,3], [4,5,7],[-2,0,6],[5]])\n",
    "assert lst1 == [-2, 0, 1, 2, 3, 4, 5, 5, 6, 7], \"Test 1 failed\"\n",
    "\n",
    "lst2 = kWayMerge([[-2, 4, 5 , 8], [0, 1, 2], [-1, 3,6,7]])\n",
    "assert lst2 == [-2, -1, 0, 1, 2, 3, 4, 5, 6, 7, 8], \"Test 2 failed\"\n",
    "\n",
    "lst3 = kWayMerge([[-1, 1, 2, 3, 4, 5]])\n",
    "assert lst3 == [-1, 1, 2, 3, 4, 5], \"Test 3 Failed\"\n",
    "\n",
    "print('All Tests Passed = 15 points')\n",
    "#END TESTS"
   ]
  }
 ],
 "metadata": {
  "language_info": {
   "name": "python"
  }
 },
 "nbformat": 4,
 "nbformat_minor": 2
}
