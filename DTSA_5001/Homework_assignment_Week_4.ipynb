{
 "cells": [
  {
   "cell_type": "markdown",
   "metadata": {},
   "source": [
    "## Module 4 Assessment"
   ]
  },
  {
   "cell_type": "markdown",
   "metadata": {},
   "source": [
    "### Problem 1\n",
    "Suppose that car accidents in a given town have a Poisson distribution, with an\n",
    "average of 5 per week (i.e. λ = 5). Also, note that, given a Poisson process with\n",
    "mean λ, the waiting time until the first outcome has an exponential distribution\n",
    "with mean $1/λ$.\n",
    "\n",
    "**a)** What is the probability that more than 6 accidents occur in a given week? Round your answer to four decimal places."
   ]
  },
  {
   "cell_type": "code",
   "execution_count": null,
   "metadata": {
    "vscode": {
     "languageId": "r"
    }
   },
   "outputs": [],
   "source": [
    "p1.1 = NA\n",
    "# your code here\n",
    "lambda <- 5\n",
    "p1.1<-1-ppois(6,lambda,TRUE)\n",
    "p1.1 <- round(p1.1,4)\n",
    "p1.1"
   ]
  },
  {
   "cell_type": "markdown",
   "metadata": {},
   "source": [
    "b) What is the probability that the time until an accident will be at least one week? Give the exact answer or round your answer to four decimal places."
   ]
  },
  {
   "cell_type": "code",
   "execution_count": null,
   "metadata": {
    "vscode": {
     "languageId": "r"
    }
   },
   "outputs": [],
   "source": [
    "p1.2 = NA\n",
    "# your code here\n",
    "prob <- exp(-lambda * 1)\n",
    "p1.2 <- round(prob,4)\n",
    "p1.2"
   ]
  },
  {
   "cell_type": "markdown",
   "metadata": {},
   "source": [
    "**c)** Suppose that no accidents have occurred for two weeks. What is the probability that no accidents will occur for another two weeks? Give the exact value or round your answer to six decimal places."
   ]
  },
  {
   "cell_type": "code",
   "execution_count": null,
   "metadata": {
    "vscode": {
     "languageId": "r"
    }
   },
   "outputs": [],
   "source": [
    "p1.3 = NA\n",
    "# your code here\n",
    "prob2 <- (exp(-lambda))^2\n",
    "p1.3 <- round(prob2,6)\n",
    "p1.3"
   ]
  },
  {
   "cell_type": "markdown",
   "metadata": {},
   "source": [
    "### Problem 2\n",
    "Let X = the outcome when a fair die is rolled once. Suppose that, before the die\n",
    "is rolled, you are offered a choice: Option #1: a guarantee of $1/4$ dollars (whatever\n",
    "the outcome of the roll); Option #2: $h(X) = 1/X$ dollars. Which option would\n",
    "you prefer? Store your answer in the given variable as a numeric 1 or 2."
   ]
  },
  {
   "cell_type": "code",
   "execution_count": null,
   "metadata": {
    "vscode": {
     "languageId": "r"
    }
   },
   "outputs": [],
   "source": [
    "option_2.1 = NA\n",
    "# your code here\n",
    "option_2.1 = 2\n",
    "option_2.1"
   ]
  },
  {
   "cell_type": "markdown",
   "metadata": {},
   "source": [
    "### Problem 3\n",
    "\n",
    "Suppose $X$ is a random variable for the length of time (in hours) it takes for a piece of machinery to fail. Let $X$ have PDF $f(x) = ce^{-x/50}$ for $x>0$ and $f(x) = 0$ for $x \\le 0$.\n",
    "\n",
    "**a)** What is the value of c?"
   ]
  },
  {
   "cell_type": "code",
   "execution_count": null,
   "metadata": {
    "vscode": {
     "languageId": "r"
    }
   },
   "outputs": [],
   "source": [
    "c = NA\n",
    "# your code here\n",
    "f <- function(x) {\n",
    "    ifelse(x>0, (1/50) * exp(-x/50), 0)\n",
    "}\n",
    "\n",
    "c<- 1/50\n",
    "c"
   ]
  },
  {
   "cell_type": "markdown",
   "metadata": {},
   "source": [
    "**b)** What is the probability that the machine will function for at least 100 hours? Give the exact value or round your answer to three decimal places."
   ]
  },
  {
   "cell_type": "code",
   "execution_count": null,
   "metadata": {
    "vscode": {
     "languageId": "r"
    }
   },
   "outputs": [],
   "source": [
    "p3.b = NA\n",
    "# your code here\n",
    "p3.b <- integrate(f, lower = 100, upper = Inf)$value\n",
    "p3.b <- round(p3.b,3)\n",
    "p3.b"
   ]
  },
  {
   "cell_type": "markdown",
   "metadata": {},
   "source": [
    "**c)** What is the expected amount of time for the machine to break?"
   ]
  },
  {
   "cell_type": "code",
   "execution_count": null,
   "metadata": {
    "vscode": {
     "languageId": "r"
    }
   },
   "outputs": [],
   "source": [
    "p3.c = NA\n",
    "# your code here\n",
    "f <- function(x) {\n",
    "    ifelse(x>0, (1/50) *x* exp(-x/50), 0)\n",
    "}\n",
    "\n",
    "p3.c <- integrate(f, lower = 0, upper = Inf)$value\n",
    "p3.c <- round(p3.c,3)\n",
    "p3.c"
   ]
  }
 ],
 "metadata": {
  "language_info": {
   "name": "python"
  }
 },
 "nbformat": 4,
 "nbformat_minor": 2
}
