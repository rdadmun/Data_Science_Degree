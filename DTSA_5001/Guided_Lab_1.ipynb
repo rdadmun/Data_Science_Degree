{
 "cells": [
  {
   "cell_type": "markdown",
   "metadata": {},
   "source": [
    "# Problem 1\n",
    "The Birthday Problem: This is a classic problem that has a nonintuitive answer. Suppose there are 𝑁 students in a room.\n",
    "\n",
    "### Part a)\n",
    "We wish to figure out the probability that at least two of them have the same birthday (month and day)? (Assume that each day is equally likely to be a student's birthday, that there are no sets of twins, and that there are 365 days in the year. Do not include leap years).\n",
    "\n",
    "\"At least two\" with the same birthday could mean that exactly two students have the same birthday and all other students have birthdays different from each other and different from that one shared birthday. It could mean that two students share one birthday and two students share a different birthday and all other students have birthdays different from each other and different from either of those shared birthdays. It could mean that three students share one birthday and two students share a different birthday and all other students... this is getting difficult!\n",
    "\n",
    "When we need to compute the probability of an event describes as \"at least\" (for example \"at least one\" or \"at least two\"), it is almost always easier to consider the complement of the event. Indeed, we have that\n",
    "\n",
    "𝑃(at least two share a birthday)=1−𝑃(none share a birthday)\n",
    "Before solving this problem analytically, let's try to approach this via simulation using R! In the next cell, we will set 𝑁\n",
    " to be 10 and sample birthdays for 𝑁\n",
    " people. For simulation, considering the complement of the event will not be particularly advantageous so we will just approach the problem directly. Run the next cell to simulate 10 birthdays."
   ]
  },
  {
   "cell_type": "code",
   "execution_count": null,
   "metadata": {},
   "outputs": [],
   "source": [
    "# Run this cell\n",
    "N = 10\n",
    "birthdays = sample(1:365, size=N, replace = TRUE)\n",
    "birthdays\n",
    "unique(birthdays)"
   ]
  },
  {
   "cell_type": "markdown",
   "metadata": {},
   "source": [
    "Are there any shared birthdays here? Typing unique(birthdays) will list all of the unique elements of the vector birthdays. If the length of this vector is shorter than the length of the original vector, we know that there is at least one duplicate."
   ]
  },
  {
   "cell_type": "markdown",
   "metadata": {},
   "source": [
    "# Run this cell\n",
    "share = FALSE\n",
    "if(length(unique(birthdays)) < length(birthdays)) \n",
    "{\n",
    "  share = TRUE\n",
    "}\n",
    "share"
   ]
  },
  {
   "cell_type": "markdown",
   "metadata": {},
   "source": [
    "To see probability \"in action\", we will repeat our experiment many times!"
   ]
  },
  {
   "cell_type": "code",
   "execution_count": null,
   "metadata": {},
   "outputs": [],
   "source": [
    "# Number of repetitions of our simulated experiment\n",
    "numreps = 100000\n",
    "\n",
    "# Inititalize a Boolean vector with all FALSE values\n",
    "share = rep(FALSE,numreps)\n",
    "\n",
    "# Start the simulation\n",
    "for(i in 1:numreps)\n",
    "{\n",
    "   birthdays = sample(1:365, size=N, replace = TRUE)\n",
    "   if(length(unique(birthdays)) < length(birthdays)) \n",
    "   {\n",
    "      share[i] = TRUE\n",
    "   }\n",
    "}\n",
    "\n",
    "\n",
    "# When R sums a vector of booleans (TRUE or FALSE) it is treating TRUE as 1 and FALSE as 0.\n",
    "# So, `sum(share)` will give the total number of \"TRUE\"s\n",
    "\n",
    "sum(share)/numreps  #proportion of runs that have duplicate birthdays"
   ]
  },
  {
   "cell_type": "markdown",
   "metadata": {},
   "source": [
    "Run the cell above several times. Do you see a lot of variability in the answer? If you roll a fair six-sided die 5 times, do you really think that you will see a 3 1/6\n",
    " of the time? To get a good estimate of that 1/6\n",
    " probability, you need to roll the die a lot!\n",
    "\n",
    "Increase \"numreps\" to 100,000 and run it several times again. (Note: R is very slow at \"looping\" so each run may take a moment. There are more efficient ways to code the simulation in R but we are using the loop as, arguably, the most straightforward method for clarity.)\n",
    "\n",
    "With each run at the higher number of reps, your estimate should be more consistent.\n",
    "\n",
    "---------------------------------------------------------------------------\n",
    "\n",
    "We now challenge you to work out the probability\n",
    "𝑃(at least two share a birthday)=1−𝑃(none share a birthday)\n",
    " \n",
    "on paper for a general  𝑁\n",
    " . If you need to look up the solution in a book or on the internet, make sure you read it carefully until you understand it. Although this is an \"ungraded lab\", skipping this challenge can hurt you as this course progresses!\n",
    "\n",
    "In the next cell, use R to work out the value of your analytical solution in the case that  𝑁=10\n",
    " . Does it match (approximately) the answer you arrived at via simulation?"
   ]
  },
  {
   "cell_type": "markdown",
   "metadata": {},
   "source": [
    "# Your code here\n",
    "M = 10\n",
    "p <- numeric(M)\n",
    "    for (i in 1:M) {\n",
    "        q <- 1 - (0:(i-1))/365\n",
    "        p[i] <- prod(q)      \n",
    "    }\n",
    "\n",
    "probability <- p[M]\n",
    "probability\n",
    "1 - probability"
   ]
  },
  {
   "cell_type": "markdown",
   "metadata": {},
   "source": [
    "### Part b)\n",
    "Copy your code form the previous cell into the next cell. Alter it to determine, through trial-and-error, how large  𝑁\n",
    "  must be so that the probability that at least two of them have the same birthday is at least 1/2? Answer this through trial and error by using R to evaluate your analytical solution for various values of  𝑁\n",
    " .\n",
    "\n",
    "(Make sure you can get the given answer!)"
   ]
  },
  {
   "cell_type": "markdown",
   "metadata": {},
   "source": [
    "# Your code here: The answer is 23 !!!\n",
    "M = 23\n",
    "p <- numeric(M)\n",
    "    for (i in 1:M) {\n",
    "        q <- 1 - (0:(i-1))/365\n",
    "        p[i] <- prod(q)      \n",
    "    }\n",
    "\n",
    "probability <- p[M]\n",
    "probability\n",
    "1 - probability"
   ]
  },
  {
   "cell_type": "markdown",
   "metadata": {},
   "source": [
    "### Part c)\n",
    "For  𝑁=1,2,…,40\n",
    " , we want to plot  𝑁\n",
    "  (the number of students) on the  𝑥\n",
    " -axis versus the probability that at least two of them have the same birthday on the  𝑦\n",
    " -axis. Fill in the missing code."
   ]
  },
  {
   "cell_type": "markdown",
   "metadata": {},
   "source": [
    "# Your code here\n",
    "birthday_prob <- function(N, simulations = 10000) {\n",
    "    count <- 0\n",
    "    for (i in 1:simulations) {\n",
    "        birthdays <- sample(1:365, N, replace = TRUE)\n",
    "        if(length(birthdays) != length(unique(birthdays))) {\n",
    "            count = count + 1\n",
    "        }\n",
    "    }\n",
    "    return (count/N)\n",
    "}\n",
    "\n",
    "#Vector for probabilities\n",
    "prob <- numeric()\n",
    "\n",
    "#Calculate the probabilities\n",
    "for (N in 1:40) {\n",
    "    prob[N] = birthday_prob(N)\n",
    "}\n",
    "\n",
    "plot(1:40, prob, type = \"b\",\n",
    "    xlab = \"Number of Students (N)\",\n",
    "    ylab = \"Probability of at least 2 sharing a birthday\",\n",
    "    main = \"Birthday Probability Problem\")"
   ]
  },
  {
   "cell_type": "markdown",
   "metadata": {},
   "source": [
    "# Problem 2\n",
    "In this problem, we will use the sample generation skills from the previous problem to simulate dice rolls.\n",
    "\n",
    "### Part a)\n",
    "\n",
    "Let  𝑋\n",
    "  be a random variable for the number rolled on a fair, six-sided die. Use the sample function (See Problem 1) to simulate  100\n",
    "  values of  𝑋\n",
    " ."
   ]
  },
  {
   "cell_type": "code",
   "execution_count": null,
   "metadata": {},
   "outputs": [],
   "source": [
    "# Your code here\n",
    "numrolls = 100\n",
    "x = sample(1:6,numrolls,replace=TRUE)"
   ]
  },
  {
   "cell_type": "code",
   "execution_count": null,
   "metadata": {},
   "outputs": [],
   "source": [
    "# Run this cell to tabulate the counts for each outcome 1 through 6\n",
    "table(x)"
   ]
  },
  {
   "cell_type": "code",
   "execution_count": null,
   "metadata": {},
   "outputs": [],
   "source": [
    "# Run this cell to get the proportions\n",
    "table(x)/numrolls"
   ]
  },
  {
   "cell_type": "markdown",
   "metadata": {},
   "source": [
    "Do you see what you expected to see? Run the previous three cells again with different values of \"numrolls\" to get more accurate results.\n",
    "\n",
    "### Part b)\n",
    "\n",
    "Consider rolling two fair six-sided dice. What is the probability that the sum of the results is greater than or equal to 5? Work out the exact result by hand and then run a simulation to answer the question in the next cell. Compare your answers-- check your analytical solution and code until you can get them to match!"
   ]
  },
  {
   "cell_type": "code",
   "execution_count": null,
   "metadata": {},
   "outputs": [],
   "source": [
    "# Your code here\n",
    "mean(replicate(10000, {dieroll <- sample(1:6, 2, replace = TRUE); dieroll[1]+dieroll[2]>4}))\n"
   ]
  }
 ],
 "metadata": {
  "language_info": {
   "name": "python"
  }
 },
 "nbformat": 4,
 "nbformat_minor": 2
}
