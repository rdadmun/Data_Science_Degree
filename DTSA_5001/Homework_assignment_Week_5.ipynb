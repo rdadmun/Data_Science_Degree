{
 "cells": [
  {
   "cell_type": "markdown",
   "metadata": {},
   "source": [
    "## Module 5 Assessment"
   ]
  },
  {
   "cell_type": "markdown",
   "metadata": {},
   "source": [
    "### Problem 1\n",
    "Let $X$ be a random variable such that $E(X) = 3$, $sd(X) = 4$, and let $Y$ be a\n",
    "r.v. such that $E(Y ) = 1$, $sd(Y ) = 2$. $X$ and $Y$ are not linearly independent, and\n",
    "$corr(X, Y ) = 0.5$.\n",
    "\n",
    "**a)** What is $E(X + 3Y + 1)$?"
   ]
  },
  {
   "cell_type": "code",
   "execution_count": null,
   "metadata": {
    "vscode": {
     "languageId": "r"
    }
   },
   "outputs": [],
   "source": [
    "e1.1 = NA\n",
    "# your code here\n",
    "E_x <- 3\n",
    "sd_x <- 4\n",
    "E_y <- 1\n",
    "sd_y <- 2\n",
    "corr_xy <- 0.5\n",
    "cov_xy <- corr_xy*sd_x*sd_y\n",
    "var_x <- (sd_x)^2\n",
    "var_y <- (sd_y)^2\n",
    "\n",
    "e1.1 <- E_x + 3* E_y +1\n",
    "e1.1"
   ]
  },
  {
   "cell_type": "markdown",
   "metadata": {},
   "source": [
    "**b)** What is $sd(4X + 2Y + 2)$? Round your answer to two decimal places."
   ]
  },
  {
   "cell_type": "code",
   "execution_count": null,
   "metadata": {
    "vscode": {
     "languageId": "r"
    }
   },
   "outputs": [],
   "source": [
    "sd1.2 = NA\n",
    "# your code here\n",
    "a<-4\n",
    "b<-2\n",
    "c<-2\n",
    "var1.2 <- a^2*var_x + b^2*var_y + a*b*c*cov_xy\n",
    "sd1.2 <- sqrt(var1.2)\n",
    "sd1.2 <- round(sd1.2,2)\n",
    "sd1.2"
   ]
  },
  {
   "cell_type": "markdown",
   "metadata": {},
   "source": [
    "**c)** What is $E(3X - 2Y - 10)$?"
   ]
  },
  {
   "cell_type": "code",
   "execution_count": null,
   "metadata": {
    "vscode": {
     "languageId": "r"
    }
   },
   "outputs": [],
   "source": [
    "e1.3 = NA\n",
    "# your code here\n",
    "e1.3 <- 3*E_x - 2*E_y -10\n",
    "e1.3"
   ]
  },
  {
   "cell_type": "markdown",
   "metadata": {},
   "source": [
    "**d)** What is $sd(3X - 3Y - 5)$? Round your answer to two decimal places."
   ]
  },
  {
   "cell_type": "code",
   "execution_count": null,
   "metadata": {
    "vscode": {
     "languageId": "r"
    }
   },
   "outputs": [],
   "source": [
    "sd1.4 = NA\n",
    "# your code here\n",
    "d<- 3\n",
    "f<- -3\n",
    "g<- -5\n",
    "var1.4 <- d^2*var_x + f^2*var_y + 2*d*f*cov_xy\n",
    "sd1.4 <- sqrt(var1.4)\n",
    "sd1.4 <- round(sd1.4,2)\n",
    "sd1.4"
   ]
  },
  {
   "cell_type": "markdown",
   "metadata": {},
   "source": [
    "### Problem 2\n",
    "\n",
    "Two components needed in automotive manufacturing each can be represented in 1 of 3 grades. Let $X$ be the cost of the first component (in hundreds of dollars) and let $Y$ be the cost of the second component (also in hundreds of dollars). The following table represents the weekly fraction of cars that utilize each combination of these components.\n",
    "\n",
    "|      | y=7 | y=9 | y=10 |\n",
    "| ----- | ----- | ----- | ----- |\n",
    "| x=7 | 0.05 | 0.05 | 0.10 |\n",
    "| x=9 | 0.05 | 0.10 | 0.35 |\n",
    "| x=10 | 0 | 0.20 | 0.10 |"
   ]
  },
  {
   "cell_type": "markdown",
   "metadata": {},
   "source": [
    "**a)** What is $Cov(X, Y)$? Round your answer to three decimal places."
   ]
  },
  {
   "cell_type": "code",
   "execution_count": null,
   "metadata": {
    "vscode": {
     "languageId": "r"
    }
   },
   "outputs": [],
   "source": [
    "cov.xy = NA\n",
    "# your code here\n",
    "joint_prob <- matrix(c(0.05, 0.05, 0.10,\n",
    "                       0.05, 0.10, 0.35,\n",
    "                       0.00, 0.20, 0.10), nrow = 3, byrow = TRUE)\n",
    "x <- c(7, 9, 10)\n",
    "y <- c(7, 9, 10)\n",
    "\n",
    "mean_x <- sum(x * rowSums(joint_prob))\n",
    "mean_y <- sum(y * colSums(joint_prob))\n",
    "cov.xy <- sum(outer(x - mean_x, y - mean_y) * joint_prob)\n",
    "print(round(cov.xy,3))"
   ]
  },
  {
   "cell_type": "markdown",
   "metadata": {},
   "source": [
    "**b)** Suppose the random variables measure the cost of each part in dollars, rather than hundreds of dollars. In this case, the random variables would be $U = 100X$ and $V = 100Y$. What is $Cov(U, V)$? (This question shows us how changing the units of the random variable can change the value of the covariance) "
   ]
  },
  {
   "cell_type": "code",
   "execution_count": null,
   "metadata": {
    "vscode": {
     "languageId": "r"
    }
   },
   "outputs": [],
   "source": [
    "cov.uv = NA\n",
    "# your code here\n",
    "cov.uv <- 100^2 * cov.xy\n",
    "cov.uv"
   ]
  },
  {
   "cell_type": "markdown",
   "metadata": {},
   "source": [
    "**c)** What is the correlation coefficient $\\rho_{X,Y}$? Save this value as `rho.xy`. What is the correlation coefficient $\\rho_{U,V}$? Save this value as `rho.uv`? Round your answers to three decimal places."
   ]
  },
  {
   "cell_type": "code",
   "execution_count": null,
   "metadata": {
    "vscode": {
     "languageId": "r"
    }
   },
   "outputs": [],
   "source": [
    "rho.xy = NA\n",
    "rho.uv = NA\n",
    "# your code here\n",
    "sd.x <- sqrt(sum((x-mean_x)^2 * rowSums(joint_prob)))\n",
    "sd.y <- sqrt(sum((y-mean_y)^2 * colSums(joint_prob)))\n",
    "\n",
    "rho.xy <- cov.xy / (sd.x *sd.y)\n",
    "rho.uv <- cov.uv / (100*sd.x *100*sd.y)\n",
    "\n",
    "print(round(rho.xy,3))\n",
    "print(round(rho.uv,3))"
   ]
  }
 ],
 "metadata": {
  "language_info": {
   "name": "python"
  }
 },
 "nbformat": 4,
 "nbformat_minor": 2
}
