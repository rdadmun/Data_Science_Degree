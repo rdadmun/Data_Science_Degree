{
 "cells": [
  {
   "cell_type": "markdown",
   "metadata": {},
   "source": [
    "# Module 3 Assessment\n",
    "In this notebook you will use the rules of conditional probability to solve various problems. Please read each statement and answer all questions in the code blocks that contain \"your code here\". Feel free to add as many blocks as you need, only the original code blocks will be graded."
   ]
  },
  {
   "cell_type": "markdown",
   "metadata": {},
   "source": [
    "### Problem 1\n",
    "\n",
    "The planning department for the local county requires a contractor to submit one, two,\n",
    "three, four, or five forms (depending on the nature of the project) when applying\n",
    "for a building permit. Let $Y$ be the number of forms required for the next applicant.\n",
    "The probability that $y$ forms are required is known to be proportional to $y$; that\n",
    "is, $P(Y = y) = ky$ for $y = 1, ..., 5$."
   ]
  },
  {
   "cell_type": "markdown",
   "metadata": {},
   "source": [
    "#### Part a)\n",
    "What is the value of k? Save your answer as `p1.1`."
   ]
  },
  {
   "cell_type": "code",
   "execution_count": null,
   "metadata": {
    "vscode": {
     "languageId": "plaintext"
    }
   },
   "outputs": [],
   "source": [
    "p1.1 = NA\n",
    "# your code here\n",
    "p1.1 = 1 / (1+2+3+4+5)\n",
    "p1.1"
   ]
  },
  {
   "cell_type": "markdown",
   "metadata": {},
   "source": [
    "#### Part (b)\n",
    "\n",
    "What is the probability that at most three forms are required? Save your answer as `p1.2`."
   ]
  },
  {
   "cell_type": "code",
   "execution_count": null,
   "metadata": {
    "vscode": {
     "languageId": "plaintext"
    }
   },
   "outputs": [],
   "source": [
    "p1.2 = NA\n",
    "# your code here\n",
    "k <- p1.1\n",
    "p1.2 <- 1*k + 2*k + 3*k\n",
    "p1.2"
   ]
  },
  {
   "cell_type": "markdown",
   "metadata": {},
   "source": [
    "#### Part (c)\n",
    "\n",
    "What is the probability that between two and four forms (inclusive) are\n",
    "required? Save your answer as `p1.3`.\n"
   ]
  },
  {
   "cell_type": "code",
   "execution_count": null,
   "metadata": {
    "vscode": {
     "languageId": "plaintext"
    }
   },
   "outputs": [],
   "source": [
    "p1.3 = NA\n",
    "# your code here\n",
    "p1.3 <- 2*k+3*k+4*k\n",
    "p1.3"
   ]
  },
  {
   "cell_type": "markdown",
   "metadata": {},
   "source": [
    "#### Part (d)\n",
    "\n",
    "Could $P(Y = y) = y^2/50$ for $y = 1, ..., 5$ be the pmf of $Y$ ? Store your answer as TRUE or FALSE. Save your answer as `TF_1.4`."
   ]
  },
  {
   "cell_type": "code",
   "execution_count": null,
   "metadata": {
    "vscode": {
     "languageId": "plaintext"
    }
   },
   "outputs": [],
   "source": [
    "TF_1.4 = NA\n",
    "# your code here\n",
    "TF_1.4 <- FALSE\n",
    "TF_1.4"
   ]
  },
  {
   "cell_type": "markdown",
   "metadata": {},
   "source": [
    "### Problem 2\n",
    "\n",
    "Individuals A and B play a sequence of chess games until one player wins 9 games. A wins an individual game with probability p, and B wins a game with probability 1 − p (i.e., there are no draws). Let X denote the number of games played.\n",
    "\n",
    "#### Part (a) \n",
    "\n",
    "What are the possible values of X? Store your answers the vector `Vals_2.1`. Don't worry about the order."
   ]
  },
  {
   "cell_type": "code",
   "execution_count": null,
   "metadata": {
    "vscode": {
     "languageId": "plaintext"
    }
   },
   "outputs": [],
   "source": [
    "Vals_2.1 = c()\n",
    "# your code here\n",
    "Vals_2.1 = c(9,10,11,12,13,14,15,16,17)\n",
    "Vals_2.1"
   ]
  },
  {
   "cell_type": "markdown",
   "metadata": {},
   "source": [
    "#### Part (b)\n",
    "\n",
    "The expression for $P(X = x)$ can be shown to include what known distribution? It will end up being the sum of two of these distributions each multiplied by a different factor. Below are the options listing several distributions. Select the number corresponding to the correct distribution as `Dist_2.2`. (Hint: Think of splitting probability into a probability for player A winning in x games summed with the probability of the disjoint event of player B winning in x games.)\n",
    "\n",
    "1. Geometric Distribution\n",
    "2. Binomial Distribution\n",
    "3. Poisson Distribution\n",
    "4. Exponential Distribution\n",
    "5. Negative Binomial Distribution\n",
    "6. Normal Distribution"
   ]
  },
  {
   "cell_type": "code",
   "execution_count": null,
   "metadata": {
    "vscode": {
     "languageId": "plaintext"
    }
   },
   "outputs": [],
   "source": [
    "Dist_2.2 = \"\"\n",
    "# your code here\n",
    "Dist_2.2 = \"5\"\n",
    "Dist_2.2"
   ]
  },
  {
   "cell_type": "markdown",
   "metadata": {},
   "source": [
    "#### Part (c) \n",
    "\n",
    "Let $p = 0.5$. Find $P(X = 12)$. Round your answer to four decimal places. Save your answer as `p2.3`."
   ]
  },
  {
   "cell_type": "code",
   "execution_count": null,
   "metadata": {
    "vscode": {
     "languageId": "plaintext"
    }
   },
   "outputs": [],
   "source": [
    "p2.3 = NA\n",
    "# your code here\n",
    "p <- 0.5\n",
    "r <- 9\n",
    "k <- 12\n",
    "\n",
    "p2.3<- choose(k-1,r-1) * p^r * (1-p)^(k-r)\n",
    "\n",
    "p2.3 <- round(2*p2.3,4)\n",
    "p2.3"
   ]
  },
  {
   "cell_type": "markdown",
   "metadata": {},
   "source": [
    "### Problem 3\n",
    "\n",
    "Note the following distribution: X = the leading digit of a randomly selected number from a large accounting ledger. The pmf for this random variable has been found to be defined by:\n",
    "$$ P(X=x) = f(x) = log_{10}\\Big(\\frac{x+1}{x}\\Big), \\ \\ x=1,2,...,9. $$\n",
    "\n",
    "#### Part (a)\n",
    "\n",
    "Find E(X). Round your answer to two decimal places. Save your answer as `e3.1`."
   ]
  },
  {
   "cell_type": "code",
   "execution_count": null,
   "metadata": {
    "vscode": {
     "languageId": "plaintext"
    }
   },
   "outputs": [],
   "source": [
    "e3.1 = NA\n",
    "# your code here\n",
    "e3.1 <- sum (1:9 * log10((1:9 +1) / 1:9))\n",
    "e3.1<- round(e3.1,2)\n",
    "e3.1"
   ]
  },
  {
   "cell_type": "markdown",
   "metadata": {},
   "source": [
    "### Problem 4\n",
    "\n",
    "Suppose we have an unfair coin with a probability of $0.6$ of obtaining a heads on any given toss. As is typical for coin toss problems, assume each coin toss is independent.\n",
    "\n",
    "#### Part (a) \n",
    "\n",
    "What is the expected number of flips **before** we get a heads? Round your answer to two decimal places. Save your answer as `e4.1`."
   ]
  },
  {
   "cell_type": "code",
   "execution_count": null,
   "metadata": {
    "vscode": {
     "languageId": "plaintext"
    }
   },
   "outputs": [],
   "source": [
    "e4.1 = NA\n",
    "# your code here\n",
    "p<-0.6\n",
    "e4.1 <- (1-p)/p\n",
    "e4.1 <- round(e4.1,2)\n",
    "e4.1"
   ]
  },
  {
   "cell_type": "markdown",
   "metadata": {},
   "source": [
    "#### Part (b) \n",
    "How many tails do you expect to see before getting three heads? Save your answer as `e4.2`. \n",
    "\n",
    "For example, imagine you see the third heads on the tenth trial. This would mean you have seen 2 heads in the first 9 trials followed by a heads on the tenth. Then your answer would be observing $7$ tails. Generalize this to the $i^{th}$ trial."
   ]
  },
  {
   "cell_type": "code",
   "execution_count": null,
   "metadata": {
    "vscode": {
     "languageId": "plaintext"
    }
   },
   "outputs": [],
   "source": [
    "e4.2 = NA\n",
    "# your code here\n",
    "p <- 0.6\n",
    "q <- 1-p\n",
    "r<-3\n",
    "\n",
    "e4.2 <-  (r*q) /p\n",
    "e4.2"
   ]
  }
 ],
 "metadata": {
  "language_info": {
   "name": "python"
  }
 },
 "nbformat": 4,
 "nbformat_minor": 2
}
