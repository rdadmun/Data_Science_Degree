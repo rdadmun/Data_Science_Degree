{
 "cells": [
  {
   "cell_type": "markdown",
   "metadata": {},
   "source": [
    "# Module 1 Assessment\n",
    "\n",
    "In this notebook you will apply the axioms of probability and use descriptive statistics to solve various problems. Please read each statement and answer all questions in the code blocks that contain \"your code here\". Feel free to add as many blocks as you need, only the original code blocks will be graded.\n",
    "\n",
    "You will see some cells contain the comment \"Hidden Test Cell.\" These cells contain code to test your solution, which will run after you submit your assignment. You will not know what tests are being run, or if they have been passed until you have submitted your assignment."
   ]
  },
  {
   "cell_type": "code",
   "execution_count": null,
   "metadata": {},
   "outputs": [],
   "source": []
  },
  {
   "cell_type": "markdown",
   "metadata": {},
   "source": [
    "### Problem 1:\n",
    "Suppose we are interested in the buying habits of shoppers at a particular grocery store with regards to whether they purchase apples, milk, and/or bread. Now suppose 30\\% of all shoppers at this particular grocery store buy apples, 45\\% buy milk, and 40\\% buy a loaf of bread. Let $A$ be the event that a randomly selected shopper buys apples, $B$ be the event that the same randomly selected shopper buys milk, and $C$ the event that they buy bread.  Suppose we also know (from data collected) the following information:\n",
    "\n",
    "\n",
    "*   The probability that the shopper buys apples and milk is 0.20.\n",
    "*   The probability that the shopper buys milk and bread is 0.25.\n",
    "*   The probability that the shopper buys apples and bread is 0.12.\n",
    "*   The probability that the shopper buys all three items is 0.07.\n",
    "\n",
    "Use this information to answer the following questions."
   ]
  },
  {
   "cell_type": "markdown",
   "metadata": {},
   "source": [
    "**a)** For our purposes, we will use a numeric representation for each event. For example, $(010)$ would be an event in the sample space where a zero in the first place represents no apples were bought while a 1 means they were. Similarly,  the second place is the presence of milk and the third place of bread. The example given $(010)$ represents the purchase of milk but not apples or bread.\n",
    "\n",
    "Insert into vector `S` the events that belong to the sample space. Then insert the events from the sample space that would correspond to $A$ occuring into vector `A`. Repeat this with vector `B` for $B$ and vector `C` for $C$.\n",
    "\n",
    "According to set notation, the sample space should look like this: $S=\\{ \\dots \\}$. However, due to data storage syntax in R, we will be storing these events in vectors. For example, for some arbitrary event $W$ would be stored as follows $W=c(010)$. `c()` is a command we can use to construct a vector where commas separate each entry. Complete the code below. Do not worry about the order in which events are placed in vector."
   ]
  },
  {
   "cell_type": "code",
   "execution_count": null,
   "metadata": {},
   "outputs": [],
   "source": [
    "S = c()\n",
    "A = c()\n",
    "B = c()\n",
    "C = c()\n",
    "# your code here\n",
    "S = c(000, 001, 010, 011, 100, 110, 101, 111)\n",
    "A = c(100, 101, 110, 111)\n",
    "B = c(010, 011, 110, 111)\n",
    "C = c(001, 011, 101, 111)"
   ]
  },
  {
   "cell_type": "markdown",
   "metadata": {},
   "source": [
    "**b)** Find the probability that the shopper purchases at least one of the three items.\n",
    "\n",
    "Store your answer in a variable `p1.1`."
   ]
  },
  {
   "cell_type": "code",
   "execution_count": null,
   "metadata": {},
   "outputs": [],
   "source": [
    "p1.1 = NA\n",
    "# your code here\n",
    "#Given probabilities\n",
    "P_A = 0.30  #apples\n",
    "P_B = 0.45  #milk\n",
    "P_C = 0.40  #bread\n",
    "\n",
    "P_A_and_B = 0.20  #apples and milk\n",
    "P_B_and_C = 0.25  #milk and bread\n",
    "P_A_and_C = 0.12  #apples and bread\n",
    "\n",
    "P_A_and_B_and_C = 0.07  #all three items\n",
    "\n",
    "# Calculate the probability of buying at least one item\n",
    "P_at_least_one = P_A + P_B + P_C - P_A_and_B - P_A_and_C - P_B_and_C + P_A_and_B_and_C\n",
    "\n",
    "# Store the result in a variable p1.1\n",
    "p1.1 <- P_at_least_one\n",
    "\n",
    "# Display the result\n",
    "p1.1"
   ]
  },
  {
   "cell_type": "markdown",
   "metadata": {},
   "source": [
    "**c)** Find the probability that the shopper purchases none of the three items.\n",
    "\n",
    "Store your answer in a variable `p1.2`."
   ]
  },
  {
   "cell_type": "code",
   "execution_count": null,
   "metadata": {},
   "outputs": [],
   "source": [
    "p1.2 = NA\n",
    "# your code here\n",
    "p1.2 = 1 - p1.1\n",
    "p1.2 -> P_none\n",
    "p1.2"
   ]
  },
  {
   "cell_type": "markdown",
   "metadata": {},
   "source": [
    "**d)** Find the probability that the shopper buys milk and bread but not apples.\n",
    "\n",
    "Store your answer in a variable `p1.3`."
   ]
  },
  {
   "cell_type": "code",
   "execution_count": null,
   "metadata": {},
   "outputs": [],
   "source": [
    "p1.3 = NA\n",
    "# your code here\n",
    "P_B_and_C_not_A = P_B_and_C - P_A_and_B_and_C\n",
    "\n",
    "p1.3 <- P_B_and_C_not_A\n",
    "p1.3"
   ]
  },
  {
   "cell_type": "markdown",
   "metadata": {},
   "source": [
    "### Problem 2:\n",
    "\n",
    "A student takes a multiple choice test with $20$ questions. Each question has 5 possible answers, only one of which is correct. \n",
    "\n",
    "**a)** How many ways can the test be completed?  (Find the cardinality of the sample space.) Store your answer in `cardinality`."
   ]
  },
  {
   "cell_type": "code",
   "execution_count": null,
   "metadata": {},
   "outputs": [],
   "source": [
    "cardinality = NA\n",
    "# your code here\n",
    "n=5\n",
    "k=20\n",
    "cardinality = n^k\n",
    "cardinality"
   ]
  },
  {
   "cell_type": "markdown",
   "metadata": {},
   "source": [
    "**b)** If a student answers each question at random, what is the probability that they will answer at least $14$ questions correctly? Round your answer to seven decimal places. Store your answer in `p2.b`."
   ]
  },
  {
   "cell_type": "code",
   "execution_count": null,
   "metadata": {},
   "outputs": [],
   "source": [
    "p2.b = NA\n",
    "# your code here\n",
    "p2.b <- 1-pbinom(13,20,0.20,lower.tail = TRUE)\n",
    "p2.b = round(p2.b,7)\n",
    "p2.b"
   ]
  },
  {
   "cell_type": "markdown",
   "metadata": {},
   "source": [
    "**c)** If a student knows the answer to each question with probability $0.9$, what is the chance they will answer at least $14$ correctly? Round your answer to four decimal places. Save your answer as `p2.c`."
   ]
  },
  {
   "cell_type": "code",
   "execution_count": null,
   "metadata": {},
   "outputs": [],
   "source": [
    "p2.c = NA\n",
    "# your code here\n",
    "p2.c <- 1-pbinom(13,20,0.90,lower.tail = TRUE)\n",
    "p2.c = round(p2.c, 4)\n",
    "p2.c"
   ]
  },
  {
   "cell_type": "markdown",
   "metadata": {},
   "source": [
    "Thought question (Ungraded): If a student understands 90\\% of the material, is a multiple choice test of 20 questions an appropriate means of testing?\n",
    "\n",
    "### Problem 3:\n",
    "\n",
    "Suppose there are 20 employees on the day shift, 15 on swing, and 10 on nights. You would like to choose 6 at random for an in-depth interview. Let $A_{1}$ be the event that all 6 are chosen from the day shift, $A_{2}$ be the event that all $6$ are chosen from the swing shift, and $A_{3}$ the event that all 6 are chosen from the night shift.\n",
    "\n",
    "**a)** What is the cardinality of the sample space (the drawing of 6 employees from all shifts)? Assume each employee is unique. Think about what each element, or possible outcome, in the sample space represents."
   ]
  },
  {
   "cell_type": "code",
   "execution_count": null,
   "metadata": {},
   "outputs": [],
   "source": [
    "Size = NA\n",
    "# your code here\n",
    "Size = factorial(45) / (factorial(6) * factorial(45-6))\n",
    "Size"
   ]
  },
  {
   "cell_type": "markdown",
   "metadata": {},
   "source": [
    "b) Assuming that each employee is chosen with equal probaiblity, what is the probability that all 6 chosen employees work the day shift? Note that the employees are chosen sequentially, not all at once. Round your answer to 5 decimal places. Save your answer as P_AllDay.\n",
    "\n",
    "Thought question (ungraded): If you hired a consultant to do this interview and all 6 employees were chosen from the day shift, what would you be likely to conclude?"
   ]
  },
  {
   "cell_type": "code",
   "execution_count": null,
   "metadata": {},
   "outputs": [],
   "source": [
    "P_AllDay = NA\n",
    "# your code here\n",
    "\n",
    "day_shift <- 20\n",
    "swing_shift <- 15\n",
    "night_shift <- 10\n",
    "\n",
    "N <- day_shift + swing_shift + night_shift\n",
    "k <- 6\n",
    "\n",
    "p_A1 <- factorial(day_shift) / (factorial(k)*factorial(day_shift -k))\n",
    "\n",
    "P_AllDay = p_A1 / Size\n",
    "P_AllDay = round(P_AllDay, 5)\n",
    "P_AllDay"
   ]
  },
  {
   "cell_type": "markdown",
   "metadata": {},
   "source": [
    "**c)** What is the probability that all 6 workers are selected from the same shift? Again, assume the employees are selected sequentially and not all at once. Round your answer to four decimal places. Save your answer as `P_AllSame`."
   ]
  },
  {
   "cell_type": "code",
   "execution_count": null,
   "metadata": {},
   "outputs": [],
   "source": [
    "P_AllSame = NA\n",
    "# your code here\n",
    "day_shift <- 20\n",
    "swing_shift <- 15\n",
    "night_shift <- 10\n",
    "\n",
    "N <- day_shift + swing_shift + night_shift\n",
    "k <- 6\n",
    "\n",
    "p_A1 <- choose(day_shift, k) / choose(N, k)\n",
    "p_A2 <- choose(swing_shift, k) / choose(N, k)\n",
    "p_A3 <- choose(night_shift, k) / choose(N, k)\n",
    "\n",
    "P_AllSame = p_A1 + p_A2 + p_A3\n",
    "P_AllSame = round(P_AllSame, 4)\n",
    "P_AllSame"
   ]
  },
  {
   "cell_type": "markdown",
   "metadata": {},
   "source": [
    "Thought question (Ungraded): Let $B_{1}$ be the event that no one from the day shift is selected, $B_{2}$ the event that no one from the swing shift is selected, and $B_{3}$ the event that no one from the night shift is selected. \n",
    "\n",
    "How is $A_{1}^{c}$ defined? Is it related to $B_{1}$ or $B_{1}^{c}$? It's very important to carefully define the events of interest so that you know you are calculating the correct probability.\n",
    "\n",
    "**d)** Find the probability that at least one of the shifts will be unrepresented in the sample of $6$ workers. Round your answer to four decimal places. Save your answer as `P_NoneOfOneShift`.\n",
    "\n",
    "**Hint:** We want to solve $P(B_1 \\cup B_2 \\cup B_3)$. To solve this, it may help to make a venn diagram for these events. Make sure you don't overcount the overlapping areas of this venn diagram!"
   ]
  },
  {
   "cell_type": "code",
   "execution_count": null,
   "metadata": {},
   "outputs": [],
   "source": [
    "P_NoneOfOneShift = NA\n",
    "# your code here\n",
    "day_shift <- 20\n",
    "swing_shift <- 15\n",
    "night_shift <- 10\n",
    "\n",
    "N <- day_shift + swing_shift + night_shift\n",
    "k <- 6\n",
    "\n",
    "p_B1 = (factorial(swing_shift+night_shift)/(factorial(k)*factorial(swing_shift+night_shift-k))) / (factorial(N)/(factorial(k)*factorial(N-k)))\n",
    "p_B2 = (factorial(day_shift+swing_shift)/(factorial(k)*factorial(day_shift+swing_shift-k))) / (factorial(N)/(factorial(k)*factorial(N-k)))\n",
    "p_B3 = (factorial(day_shift+night_shift)/(factorial(k)*factorial(day_shift+night_shift-k))) / (factorial(N)/(factorial(k)*factorial(N-k)))\n",
    "p_B4 = (factorial(night_shift)/(factorial(k)*factorial(night_shift-k))) / (factorial(N)/(factorial(k)*factorial(N-k)))\n",
    "p_B5 = (factorial(swing_shift)/(factorial(k)*factorial(swing_shift-k))) / (factorial(N)/(factorial(k)*factorial(N-k)))\n",
    "p_B6 = (factorial(day_shift)/(factorial(k)*factorial(day_shift-k))) / (factorial(N)/(factorial(k)*factorial(N-k)))\n",
    "\n",
    "\n",
    "P_NoneOfOneShift <- (p_B1 + p_B2 + p_B3 - p_B4 - p_B5 - p_B6)\n",
    "P_NoneOfOneShift <- round(P_NoneOfOneShift, 4)\n",
    "print(P_NoneOfOneShift)"
   ]
  }
 ],
 "metadata": {
  "kernelspec": {
   "display_name": "Python 3",
   "language": "python",
   "name": "python3"
  },
  "language_info": {
   "name": "python",
   "version": "3.11.7"
  }
 },
 "nbformat": 4,
 "nbformat_minor": 2
}
