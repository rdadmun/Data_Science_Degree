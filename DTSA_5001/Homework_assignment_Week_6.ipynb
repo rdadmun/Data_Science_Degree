{
 "cells": [
  {
   "cell_type": "markdown",
   "metadata": {},
   "source": [
    "# Module 6 Autograded Assignment\n",
    "\n",
    "# Problem 1\n",
    "\n",
    "You are a quality assurance tester for hardware equipment and been given a lot of $10,000$ nails to test. You decide to randomly sample $100$ nails from the lot and test if they are defective. The whole lot would be considered defective if the average of the sample is less than $11.97$cm or greater than $12.04$cm. Given that the true population mean $\\mu$ is $12$cm with a true standard deviation $\\sigma$ of $0.2$cm, what is the probability that the lot is **not** defective? Round your answer to two decimal places. Save your answer as `p1`."
   ]
  },
  {
   "cell_type": "code",
   "execution_count": null,
   "metadata": {
    "vscode": {
     "languageId": "r"
    }
   },
   "outputs": [],
   "source": [
    "p1 = NA\n",
    "# your code here\n",
    "mu <- 12\n",
    "sd  <- 0.2\n",
    "n <- 100\n",
    "\n",
    "z_lower <- (11.97 - mu) / (sd / sqrt(n))\n",
    "z_upper <- (12.04 - mu) / (sd / sqrt(n))\n",
    "\n",
    "p1 <- pnorm(z_upper) - pnorm(z_lower)\n",
    "p1 <- round(p1,2)\n",
    "p1"
   ]
  },
  {
   "cell_type": "markdown",
   "metadata": {},
   "source": [
    "# Problem 2\n",
    "\n",
    "Suppose you are out fishing and you want to predict the amount of time (in minutes) it takes to catch 3 fish. Let $T_F \\sim N(15, 10)$ be the time it takes to reel in a fish. Let $T_T \\sim N(10, 8)$ be the amount of time you spend waiting for the fish to take the bait. Assume $T_F$ and $T_T$ are independent. Also assume you start timing as soon as you start reeling in the first fish, and the time ends when you have finished catching the third fish. \n",
    "\n",
    "**a)** Let $T$ be the random variable for the total amount of time spent fishing. What is $E[T]$ and $Var[T]$? Save your variables as `exp.T` and `var.T`. (Hint: Note that a variance of 122 is incorrect for this problem. Why? If $Z_1$ and $Z_2$ are indepedent N(0,1) random variables, the distribution of $Z_1 + Z_2 $ is not the same as $2Z_1$. If you want to explore this, you can run some simulations to see for yourself.) "
   ]
  },
  {
   "cell_type": "code",
   "execution_count": null,
   "metadata": {
    "vscode": {
     "languageId": "r"
    }
   },
   "outputs": [],
   "source": [
    "exp.T = NA\n",
    "var.T = NA\n",
    "# your code here\n",
    "e_tt <- 10\n",
    "e_tf <- 15\n",
    "vartt <- 8\n",
    "vartf <- 10\n",
    "\n",
    "exp.T <- e_tf + e_tt\n",
    "var.T <- (var_tf) + (var_tt)\n",
    "\n",
    "exp.T\n",
    "var.T"
   ]
  },
  {
   "cell_type": "markdown",
   "metadata": {},
   "source": [
    "**b)** What is the probability that you finish catching the three fish in 60 minutes or less? Round your answer to three decimal places. Save your answer as `p2.2`."
   ]
  },
  {
   "cell_type": "code",
   "execution_count": null,
   "metadata": {
    "vscode": {
     "languageId": "r"
    }
   },
   "outputs": [],
   "source": [
    "p2.2 = NA\n",
    "\n",
    "# your code here\n",
    "mu <- exp.T\n",
    "sigma <- sqrt(var.T)\n",
    "p2.2 <- pnorm(60, mean = mu, sd = sigma)\n",
    "p2.2 <- round(p2.2,3) \n",
    "p2.2"
   ]
  },
  {
   "cell_type": "markdown",
   "metadata": {},
   "source": [
    "# Problem 3\n",
    "\n",
    "Exams given by a particular instructor in a freshman-level statistics course have a mean of $75$ and a standard deviation of $17$. The instructor gives an exam to two classes, one with $30$ students and the other with $90$ students.\n",
    "\n",
    "**a)** Let $\\bar{X}$ represent the average exam score in the class of $30$. Approximate the probability that the average test score $\\bar{X}$ exceeds $80$, that is, estimate $P(\\bar{X} \\ge 80)$. Round your answer to four decimal places. Save your answer as `p3.a`."
   ]
  },
  {
   "cell_type": "code",
   "execution_count": null,
   "metadata": {
    "vscode": {
     "languageId": "r"
    }
   },
   "outputs": [],
   "source": [
    "p3.a = NA\n",
    "# your code here\n",
    "mu <- 75\n",
    "sd <- 17\n",
    "n<- 30\n",
    "\n",
    "sd_sample <- sd/ sqrt(n)\n",
    "p3.a <- 1 - pnorm(80, mean = mu, sd = sd_sample)\n",
    "p3.a <- round(p3.a,4)\n",
    "p3.a"
   ]
  },
  {
   "cell_type": "markdown",
   "metadata": {},
   "source": [
    "**b)** Let $\\bar{Y}$ represent the average exam score in the class of $90$. Approximate the probability that the average test score $\\bar{Y}$ exceeds $80$, that is, estimate $P(\\bar{Y} \\ge 80)$. Round your answer to four decimal places. Save your answer as `p3.b`."
   ]
  },
  {
   "cell_type": "code",
   "execution_count": null,
   "metadata": {
    "vscode": {
     "languageId": "r"
    }
   },
   "outputs": [],
   "source": [
    "p3.b = NA\n",
    "# your code here\n",
    "m <- 90\n",
    "sd_sample <- 17 / sqrt(m)\n",
    "\n",
    "p3.b <- 1 - pnorm(80, mean = mu, sd = sd_sample)\n",
    "p3.b <- round(p3.b,4)\n",
    "p3.b"
   ]
  },
  {
   "cell_type": "markdown",
   "metadata": {},
   "source": [
    "**Thought Question (Not Graded)** Would you be surpised to learn that the $90$ person class had an exam average of $80$ or higher?"
   ]
  },
  {
   "cell_type": "markdown",
   "metadata": {},
   "source": [
    "**c)** Estimate the probability that the averages of the two classes are within one point of each other, that is, estimate $P(-1 \\le \\bar{Y} - \\bar{X} \\le 1)$. Hint: What is the distribution of $\\bar{Y} - \\bar{X}$? Round your answer to two decimal places. Save your answer as `p3.c`."
   ]
  },
  {
   "cell_type": "code",
   "execution_count": null,
   "metadata": {
    "vscode": {
     "languageId": "r"
    }
   },
   "outputs": [],
   "source": [
    "p3.c = NA\n",
    "# your code here\n",
    "mu_diff <- 0\n",
    "sigma_y <- 17\n",
    "sigma_x <- 17\n",
    "n_y <- 90\n",
    "n_x <- 30\n",
    "\n",
    "var_diff <- (sigma_y^2 / n_y) + (sigma_x^2 / n_x)\n",
    "z_lower <- (-1 - mu_diff) / sqrt(var_diff)\n",
    "z_upper <- (1 - mu_diff) / sqrt(var_diff)\n",
    "p3.c <- pnorm(z_upper) - pnorm(z_lower)\n",
    "p3.c <- round(p3.c,2)\n",
    "p3.c"
   ]
  },
  {
   "cell_type": "markdown",
   "metadata": {},
   "source": [
    "# Problem 4\n",
    "\n",
    " The Central Limit Theorem states: Let $X_1, \\dots, X_n$ be a random sample with $E[X_i] = \\mu$ and $Var(X_i)=\\sigma^2$. If $n$ is sufficiently large, then $\\bar{X}$ has approximately a normal distribution with mean $\\mu_{\\bar{X}} = \\mu$ and variance $\\sigma_{\\bar{X}}^2 = \\sigma^2/n$. It's also true that $\\sum_{i=1}^n X_i \\sim N(n\\mu, n\\sigma^2)$. \n",
    " \n",
    "Suppose a machine requires a specific type of battery that lasts an exponential amount of time with mean $25$ hours. As soon as the battery fails, you replace it immediately. If you have $50$ such batteries, estimate the probability that the machine is still operating after $1300$ hours. Round your answer to three decimal places. Save your answer as `p4`."
   ]
  },
  {
   "cell_type": "code",
   "execution_count": null,
   "metadata": {
    "vscode": {
     "languageId": "r"
    }
   },
   "outputs": [],
   "source": [
    "p4 = NA\n",
    "# your code here\n",
    "n <-50\n",
    "mu <- 25\n",
    "time <- 1300\n",
    "mean_total <- n*mu\n",
    "var_total <- n*mu^2\n",
    "\n",
    "observed_time = 1300\n",
    "z_score = (time - mean_total) / (var_total ** 0.5)\n",
    "\n",
    "prob = 1 - pnorm(z_score)\n",
    "p4 = round(prob, 3)\n",
    "p4"
   ]
  },
  {
   "cell_type": "code",
   "execution_count": 3,
   "metadata": {
    "vscode": {
     "languageId": "r"
    }
   },
   "outputs": [
    {
     "data": {
      "text/html": [
       "167960"
      ],
      "text/latex": [
       "167960"
      ],
      "text/markdown": [
       "167960"
      ],
      "text/plain": [
       "[1] 167960"
      ]
     },
     "metadata": {},
     "output_type": "display_data"
    }
   ],
   "source": [
    "choose(20,11)"
   ]
  },
  {
   "cell_type": "code",
   "execution_count": 10,
   "metadata": {
    "vscode": {
     "languageId": "r"
    }
   },
   "outputs": [
    {
     "data": {
      "text/html": [
       "1.53907716932927e-06"
      ],
      "text/latex": [
       "1.53907716932927e-06"
      ],
      "text/markdown": [
       "1.53907716932927e-06"
      ],
      "text/plain": [
       "[1] 1.539077e-06"
      ]
     },
     "metadata": {},
     "output_type": "display_data"
    }
   ],
   "source": [
    "4/(choose(52,5))"
   ]
  }
 ],
 "metadata": {
  "kernelspec": {
   "display_name": "R",
   "language": "R",
   "name": "ir"
  },
  "language_info": {
   "codemirror_mode": "r",
   "file_extension": ".r",
   "mimetype": "text/x-r-source",
   "name": "R",
   "pygments_lexer": "r",
   "version": "4.3.2"
  }
 },
 "nbformat": 4,
 "nbformat_minor": 2
}
