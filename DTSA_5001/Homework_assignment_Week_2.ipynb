{
 "cells": [
  {
   "cell_type": "markdown",
   "metadata": {},
   "source": [
    "# Module 2 Assessment\n",
    "In this notebook you will use the rules of conditional probability to solve various problems. Please read each statement and answer all questions in the code blocks that contain \"your code here\". Feel free to add as many blocks as you need, only the original code blocks will be graded."
   ]
  },
  {
   "cell_type": "markdown",
   "metadata": {},
   "source": [
    "### Problem 1\n",
    "\n",
    "The CU Boulder triathlon team has 12 women and 9 men. The team is\n",
    "going to a race and can only enter 5 participants. What is the probability of\n",
    "randomly selecting a race squad of 5 participants with exactly 3 women? Round your answer to three decimal places. Enter your solution into variable `p1.1`."
   ]
  },
  {
   "cell_type": "code",
   "execution_count": null,
   "metadata": {
    "vscode": {
     "languageId": "plaintext"
    }
   },
   "outputs": [],
   "source": [
    "p1.1 = NA\n",
    "# your code here\n",
    "w = 12\n",
    "m = 9\n",
    "n = w + m\n",
    "\n",
    "select_3_women <- choose(w,3)\n",
    "select_2_men <- choose(m,2)\n",
    "select_5 <- choose(n,5)\n",
    "\n",
    "p1.1 <- ((select_3_women * select_2_men) / select_5)\n",
    "p1.1 <- round(p1.1,3)\n",
    "print(p1.1)"
   ]
  },
  {
   "cell_type": "markdown",
   "metadata": {},
   "source": [
    "### Problem 2\n",
    "Suppose a particular crime is committed in Jerry’s apartment. We’d like to know\n",
    "whether Newman is guilty of the crime. We are torn as to whether we think he is\n",
    "guilty: we think it’s equally likely that he is guilty or not guilty. Suppose that, in\n",
    "similar situations, we know that if a suspect is guilty, $85\\%$ of the time their finger\n",
    "prints are found at the scene, and, we know that if a suspect is not guilty, $30\\%$ of\n",
    "the time their finger prints are found at the scene.\n",
    "\n",
    "**a)** What is the probability that Newman’s finger prints are found at the scene? Round your answer to three decimal places. Enter your solution into variable `p2.1`.\n"
   ]
  },
  {
   "cell_type": "code",
   "execution_count": null,
   "metadata": {
    "vscode": {
     "languageId": "plaintext"
    }
   },
   "outputs": [],
   "source": [
    "p2.1 = NA\n",
    "# your code here\n",
    "P_G <- 0.5\n",
    "P_not_G <- (1 - P_G)\n",
    "P_F_given_G <- 0.85\n",
    "P_F_given_not_G <- 0.3\n",
    "\n",
    "p2.1 <- P_F_given_G * P_G + P_F_given_not_G * P_not_G\n",
    "p2.1 <- round(p2.1,3)\n",
    "P_F <- p2.1\n",
    "print(p2.1)"
   ]
  },
  {
   "cell_type": "markdown",
   "metadata": {},
   "source": [
    "**b)** If Newman’s finger prints are found at the scene, how likely is it that he is\n",
    "guilty? Round your answer to three decimal places. Enter your solution into variable `p2.2`."
   ]
  },
  {
   "cell_type": "code",
   "execution_count": null,
   "metadata": {
    "vscode": {
     "languageId": "plaintext"
    }
   },
   "outputs": [],
   "source": [
    "p2.2 = NA\n",
    "# your code here\n",
    "p2.2 <- P_F_given_G * P_G / p2.1\n",
    "p2.2 <- round(p2.2,3)\n",
    "print(p2.2)"
   ]
  },
  {
   "cell_type": "markdown",
   "metadata": {},
   "source": [
    "**c)** If Newman’s finger prints are not found at the scene, how likely is it that he\n",
    "is guilty? Round your answer to three decimal places. Enter your answer into variable `p2.3`."
   ]
  },
  {
   "cell_type": "code",
   "execution_count": null,
   "metadata": {
    "vscode": {
     "languageId": "plaintext"
    }
   },
   "outputs": [],
   "source": [
    "p2.3 = NA\n",
    "# your code here\n",
    "P_not_F_given_G = 1 - P_F_given_G\n",
    "P_not_F = 1 - P_F\n",
    "\n",
    "p2.3 = P_not_F_given_G * P_G / P_not_F\n",
    "p2.3 = round(p2.3,3)\n",
    "print(p2.3)"
   ]
  },
  {
   "cell_type": "markdown",
   "metadata": {},
   "source": [
    "### Problem 3\n",
    "\n",
    "The game of Yahtzee is played with five fair dice. The goal is to roll certain\n",
    "‘hands’, such as Yahtzee (all five dice showing the same number) or a full house\n",
    "(three of a kind and two of a kind). In the first round of a player’s turn, the player\n",
    "rolls all five dice. Based on the outcome of that roll, the player has a second and\n",
    "third round, where he/she can then choose to re-roll any subset of the dice to get\n",
    "a desired hand.\n",
    "\n",
    "**a)** What is the probability of rolling a Yahtzee (all 5 dice showing the same number) on the first round? Round your answer to 4 decimal places. Enter your answer into variable `p3.1`."
   ]
  },
  {
   "cell_type": "code",
   "execution_count": null,
   "metadata": {
    "vscode": {
     "languageId": "plaintext"
    }
   },
   "outputs": [],
   "source": [
    "p3.1 = NA\n",
    "# your code here\n",
    "p3.1 = 6 / (6^5)\n",
    "p3.1 = round(p3.1,4)\n",
    "print(p3.1)"
   ]
  },
  {
   "cell_type": "markdown",
   "metadata": {},
   "source": [
    "**b)** Suppose that, on the second round, the dice are {2, 3, 4, 6, 6}. You decide to\n",
    "re-roll both sixes in the third round. What is the probability that you roll\n",
    "either a small straight (exactly four dice are in a row) or a large straight (exactly five\n",
    "dice are in a row)? Round your answer to three decimal places. Enter your solution into variable `p3.2`. (Note that to be \"in a row\" means that the dice come up with numbers that could be arranged in a row. Examples of exactly 5 numbers in a row are \"1,2,3,4,5\" or  \"2,3,4,5,6\". You may want to look up small and large straights in Yhatzee if you are unfamilar with the game or confused by this terminology)."
   ]
  },
  {
   "cell_type": "code",
   "execution_count": null,
   "metadata": {
    "vscode": {
     "languageId": "plaintext"
    }
   },
   "outputs": [],
   "source": [
    "p3.2 = NA\n",
    "# your code here\n",
    "P_not_roll_5 <- (4/6)^2\n",
    "P_roll_5 <- 1 - P_not_roll_5\n",
    "p3.2 <- P_roll_5\n",
    "p3.2 <- round(p3.2, 3)\n",
    "p3.2"
   ]
  },
  {
   "cell_type": "markdown",
   "metadata": {},
   "source": [
    "**c)** What is the probability of rolling a\n",
    "small straight (exactly four dice in a row) on the first round? Round your answer to have three decimal places. Enter your solution into variable `p3.3`."
   ]
  },
  {
   "cell_type": "code",
   "execution_count": null,
   "metadata": {
    "vscode": {
     "languageId": "plaintext"
    }
   },
   "outputs": [],
   "source": [
    "p3.3 = NA\n",
    "# your code here\n",
    "outcomes <-6^5\n",
    "die_do_not_repeat <- 2 * factorial(5)\n",
    "die_repeat <- 3*4*choose(5,2)*factorial(3)\n",
    "small_straight <- die_do_not_repeat + die_repeat \n",
    "p3.3 <- small_straight / outcomes\n",
    "p3.3 <- round(p3.3, 3)\n",
    "print(p3.3)"
   ]
  },
  {
   "cell_type": "markdown",
   "metadata": {},
   "source": [
    "### Problem 4\n",
    "\n",
    "In 2008, $3\\%$ of adults (age 25 or older) in Boulder, CO had a PhD, $45\\%$ had at\n",
    "least a bachelor’s degree, and $75\\%$ were employed full-time. Consider randomly\n",
    "selecting an adult from Boulder, CO for an interview. Let $A$ denote the event\n",
    "that the individual has a PhD, let $B$ be the event that the individual has a bachelor’s\n",
    "degree, and let $C$ be the event that the individual is employed full-time. Assume that,\n",
    "in order to have a PhD, you must have a bachelor’s degree.\n",
    "\n",
    "**a)** Is it possible for $P(A \\cap B) = 0.03$? Enter your answer as a boolean `TRUE` or `FALSE`. Enter your solution into variable `TF_4.1`."
   ]
  },
  {
   "cell_type": "code",
   "execution_count": null,
   "metadata": {
    "vscode": {
     "languageId": "plaintext"
    }
   },
   "outputs": [],
   "source": [
    "TF_4.1 = NA\n",
    "# your code here\n",
    "TF_4.1 = TRUE\n",
    "TF_4.1"
   ]
  },
  {
   "cell_type": "markdown",
   "metadata": {},
   "source": [
    "**b)** For the remaining questions, let $P(B \\cup C) = 0.75$. Compute the probability that the selected individual has a bachelor’s degree and full-time employ-ment. Round your answer to two decimal points. Enter your solution into variable `p4.2`."
   ]
  },
  {
   "cell_type": "code",
   "execution_count": null,
   "metadata": {
    "vscode": {
     "languageId": "plaintext"
    }
   },
   "outputs": [],
   "source": [
    "p4.2 = NA\n",
    "# your code here\n",
    "P_A = 0.03\n",
    "P_B = 0.45\n",
    "P_C = 0.75\n",
    "P_B_union_C = 0.75\n",
    "\n",
    "P_B_and_C  = P_B + P_C - P_B_union_C\n",
    "\n",
    "p4.2 = round(P_B_and_C,2)\n",
    "p4.2"
   ]
  },
  {
   "cell_type": "markdown",
   "metadata": {},
   "source": [
    "**c)** What is the probability that the selected individual has a bachelor’s degree\n",
    "given that they are employed full-time? Round your answers to two decimal places. Save your solution as variable `p4.3`."
   ]
  },
  {
   "cell_type": "code",
   "execution_count": null,
   "metadata": {
    "vscode": {
     "languageId": "plaintext"
    }
   },
   "outputs": [],
   "source": [
    "p4.3 = NA\n",
    "# your code here\n",
    "p4.3 = P_B_and_C / P_C\n",
    "p4.3 = round(p4.3,2)\n",
    "p4.3"
   ]
  }
 ],
 "metadata": {
  "language_info": {
   "name": "python"
  }
 },
 "nbformat": 4,
 "nbformat_minor": 2
}
