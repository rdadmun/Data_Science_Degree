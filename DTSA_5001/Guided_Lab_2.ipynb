{
 "cells": [
  {
   "cell_type": "markdown",
   "metadata": {},
   "source": [
    "# Problem 1\n",
    "\n",
    "Suppose you roll a fair six-sided die two times. Let $A$ be the event \"the sum of the throws equals 5\" and $B$ be the event \"at least one of the throws is a $4$\".\n",
    "\n",
    "**Part a)** \n",
    "\n",
    "By hand, solve for the probability that the sum of the throws equals 5, given that at least one of the throws is a 4. That is, solve $P(A|B)$.\n",
    "\n",
    "**Part b)**\n",
    "\n",
    "In the next cell, write a simple simulation to confirm your result. Make sure you run your simulation enough times to be confident in your result. We will get you started but <b>feel free to delete the provided code to use your own approach</b>.\n",
    "\n",
    "Hint: Think about the definition of conditional probability. "
   ]
  },
  {
   "cell_type": "code",
   "execution_count": null,
   "metadata": {
    "vscode": {
     "languageId": "plaintext"
    }
   },
   "outputs": [],
   "source": [
    "# Your code here\n",
    "roll1 <- sample(1:6, 100000, replace = TRUE)\n",
    "roll2 <- sample(1:6, 100000, replace = TRUE)\n",
    "\n",
    "event_B <- (roll1 == 4 | roll2 == 4)\n",
    "event_A_given_B <- (roll1 + roll2 == 5) & event_B\n",
    "prob_A_given_B <- sum(event_A_given_B) / sum(event_B)\n",
    "\n",
    "print(prob_A_given_B)"
   ]
  },
  {
   "cell_type": "markdown",
   "metadata": {},
   "source": [
    "# Problem 2\n",
    "\n",
    "Suppose you have two bags of marbles that are in a box. Bag 1 contains 7 white marbles, 6 black marbles, and 3 gold marbles. Bag 2 contains 4 white marbles, 5 black marbles, and 15 gold marbles. You will reach into the box to pull out a bag. Suppose that, due to the size and shapes of the bags, the probability of grabbing Bag 1 from the box is twice the probability of grabbing Bag 2.\n",
    "\n",
    "If you close your eyes, grab a bag from the box, and then grab a marble from that bag, what is the probability that it is gold?\n",
    "\n",
    "**Part a)** \n",
    "\n",
    "Solve this problem by hand. This should give us a theoretical value for pulling a gold marble.\n",
    "\n",
    "**Part b)**\n",
    "\n",
    "Create a simulation to estimate the probability of pulling a gold marble. Make sure to run the simulation enough times to be confident in your final result!\n",
    "\n",
    "Hint: You can sample one marble from Bag 1 with this line of code\n",
    "\n",
    "<code>sample(c(\"white\",\"black\",\"gold\"),1,prob=c(7/16,6/16,3/16))</code>\n",
    "\n",
    "though you mind find it easier to label white marbles as \"1\", black marbles as \"2\", and gold marbles as \"3\" rather than having to work with strings."
   ]
  },
  {
   "cell_type": "code",
   "execution_count": null,
   "metadata": {
    "vscode": {
     "languageId": "plaintext"
    }
   },
   "outputs": [],
   "source": [
    "# Your code here\n",
    "sample_bag1 <- function() {\n",
    "    marble <- sample(1:3, 1, prob=c(7/16,6/16,3/16))\n",
    "    return(marble)\n",
    "}\n",
    "\n",
    "sample_bag2 <- function() {\n",
    "    marble <- sample(1:3, 1, prob=c(4/24,5/24,15/24))\n",
    "    return(marble)\n",
    "}\n",
    "\n",
    "sims <- 100000\n",
    "gold_count<-0\n",
    "\n",
    "\n",
    "for (i in 1:sims) {\n",
    "    select_bag <- ifelse(runif(1) <= 2/3, \"Bag1\", \"Bag2\")\n",
    "    \n",
    "    if(select_bag == \"Bag1\") {\n",
    "        marble <- sample_bag1()\n",
    "    } else {\n",
    "        marble <- sample_bag2()\n",
    "    }\n",
    "    if(marble == 3) {\n",
    "        gold_count <- gold_count + 1\n",
    "    }\n",
    "}\n",
    "\n",
    "estimated_prob <- gold_count / sims\n",
    "\n",
    "estimated_prob"
   ]
  }
 ],
 "metadata": {
  "language_info": {
   "name": "python"
  }
 },
 "nbformat": 4,
 "nbformat_minor": 2
}
