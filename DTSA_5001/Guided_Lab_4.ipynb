{
 "cells": [
  {
   "cell_type": "markdown",
   "metadata": {},
   "source": [
    "# Problem 1\n",
    "\n",
    "To plot a function in R such as $f(x)=e^{-x}$, we can create a very fine sequence of x values such as\n",
    "\n",
    "<code>x = seq(0,5,0.001)</code>\n",
    "\n",
    "We can then create a new sequence of points for the $y$-values.\n",
    "\n",
    "<code>y = exp(-x)</code>\n",
    "\n",
    "Finally, we can plot all of the $x$-$y$ pairs as follows."
   ]
  },
  {
   "cell_type": "code",
   "execution_count": null,
   "metadata": {
    "vscode": {
     "languageId": "r"
    }
   },
   "outputs": [],
   "source": [
    "# Run this cell\n",
    "x = seq(0,5,0.001)\n",
    "y = exp(-x)\n",
    "plot(x,y, type = \"l\")"
   ]
  },
  {
   "cell_type": "markdown",
   "metadata": {},
   "source": [
    "In the plot above you should see what appears to be a very thick curve. It is, in fact, a sequence of large and disconnected points. Go back to the previous cell and add <code>type=\"l\"</code> to the plot function to have it connect the dots with a line/curve. It is much nicer don't you think?\n",
    "\n",
    "In the next cell, plot the pdf for the normal distribution with mean $\\mu=1$ and variance $\\sigma^{2}=2$."
   ]
  },
  {
   "cell_type": "code",
   "execution_count": null,
   "metadata": {
    "vscode": {
     "languageId": "r"
    }
   },
   "outputs": [],
   "source": [
    "# Your code here\n",
    "mu <- 1\n",
    "sigma <- sqrt(2)\n",
    "\n",
    "x <- seq(-5,5, length.out = 1000)\n",
    "pdf <- dnorm(x, mean=mu, sd = sigma)\n",
    "\n",
    "plot(x,pdf, type = \"l\")"
   ]
  },
  {
   "cell_type": "markdown",
   "metadata": {},
   "source": [
    "# Problem 2\n",
    "\n",
    "In this problem, we are going to use a built-in R function to simulate values from a normal distribution and then we will look at simple transformations of our sample."
   ]
  },
  {
   "cell_type": "code",
   "execution_count": null,
   "metadata": {
    "vscode": {
     "languageId": "r"
    }
   },
   "outputs": [],
   "source": [
    "# Run this cell to simulate 100,000 values from the $N(0,1)$ distribution.\n",
    "mysample = rnorm(100000)"
   ]
  },
  {
   "cell_type": "markdown",
   "metadata": {},
   "source": [
    "In the next cell, make a histogram of \"mysample\". Be sure to use \"prob=T\" in order to have \"density\" on the $y$-axis. This makes it so the area of each rectangle is equal to the proportion of values in \"mysample\" that fall into the corresponding bin."
   ]
  },
  {
   "cell_type": "code",
   "execution_count": null,
   "metadata": {
    "vscode": {
     "languageId": "r"
    }
   },
   "outputs": [],
   "source": [
    "# Your code here\n",
    "x<- seq(-5,5,0.001)\n",
    "y<- dnorm(x,0,1)\n",
    "\n",
    "hist(mysample, prob = TRUE,\n",
    "main = \"Histogram of mysample\",\n",
    "xlab = \"Value\", ylab = \"Density\")\n",
    "lines(x,y,col = \"red\")"
   ]
  },
  {
   "cell_type": "markdown",
   "metadata": {},
   "source": [
    "Go back to the previous cell and, right before the histogram command, make a fine sequence of $x$-values and then corresponding $y$-values defined by the $N(0,1)$ pdf.  Under your histogram command, add the additional line\n",
    "\n",
    "<code>lines(x,y)</code>\n",
    "\n",
    "to add the $N(0,1)$ pdf to the histogram. If you have done everything correctly, the curve should match the histogram fairly well. If it does not, try to find your error and fix it!"
   ]
  },
  {
   "cell_type": "markdown",
   "metadata": {},
   "source": [
    "<hr>\n",
    "In the next cell, we will multiply every value in the sample by 2 and then subtract 1 from each result. Make a histogram of the results. Can you guess what the new distribution is? Use the commands \n",
    "<code>mean(mysample2)</code> \n",
    "and \n",
    "<code>var(mysample2)</code>\n",
    "to help you figure out the parameters for the new distribution. Superimpose the new pdf. (Note: You can not simply multiply the old $y$-values used in the previous \"lines\" function  by 2 and subtract 1. Pdfs for transformations of random variables do not, in general, work that way!)"
   ]
  },
  {
   "cell_type": "code",
   "execution_count": null,
   "metadata": {
    "vscode": {
     "languageId": "r"
    }
   },
   "outputs": [],
   "source": [
    "# Add code and run this cell\n",
    "mysample2 <- 2*mysample-1\n",
    "\n",
    "hist(mysample2,prob = TRUE,\n",
    "    main = \"Histogram of 2*mysample -1\",\n",
    "    xlab = \"Value\", ylab = \"Density\")\n",
    "\n",
    "mean_ms2 <- mean(mysample2)\n",
    "var_ms2 <- var(mysample2)\n",
    "\n",
    "curve(dnorm(x, mean = mean_ms2, sd = sqrt(var_ms2)),\n",
    "    add = TRUE, col = \"blue\"\n",
    ")\n"
   ]
  }
 ],
 "metadata": {
  "kernelspec": {
   "display_name": "R",
   "language": "R",
   "name": "ir"
  },
  "language_info": {
   "name": "R"
  }
 },
 "nbformat": 4,
 "nbformat_minor": 2
}
